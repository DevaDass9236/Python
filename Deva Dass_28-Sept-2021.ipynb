{
 "cells": [
  {
   "cell_type": "code",
   "execution_count": 1,
   "id": "aab51d0f",
   "metadata": {},
   "outputs": [],
   "source": [
    "import pandas as pd\n",
    "import numpy as np\n",
    "import seaborn as sns\n",
    "import matplotlib.pyplot as plt\n",
    "sns.set_color_codes=True\n",
    "%matplotlib inline\n",
    "import warnings\n",
    "warnings.filterwarnings(\"ignore\")"
   ]
  },
  {
   "cell_type": "code",
   "execution_count": 2,
   "id": "3b3c1d0e",
   "metadata": {},
   "outputs": [],
   "source": [
    "uber_drives=pd.read_csv(\"uberdrives.csv\")"
   ]
  },
  {
   "cell_type": "code",
   "execution_count": 3,
   "id": "1784cb46",
   "metadata": {},
   "outputs": [
    {
     "data": {
      "text/html": [
       "<div>\n",
       "<style scoped>\n",
       "    .dataframe tbody tr th:only-of-type {\n",
       "        vertical-align: middle;\n",
       "    }\n",
       "\n",
       "    .dataframe tbody tr th {\n",
       "        vertical-align: top;\n",
       "    }\n",
       "\n",
       "    .dataframe thead th {\n",
       "        text-align: right;\n",
       "    }\n",
       "</style>\n",
       "<table border=\"1\" class=\"dataframe\">\n",
       "  <thead>\n",
       "    <tr style=\"text-align: right;\">\n",
       "      <th></th>\n",
       "      <th>START_DATE*</th>\n",
       "      <th>END_DATE*</th>\n",
       "      <th>CATEGORY*</th>\n",
       "      <th>START*</th>\n",
       "      <th>STOP*</th>\n",
       "      <th>MILES*</th>\n",
       "      <th>PURPOSE*</th>\n",
       "    </tr>\n",
       "  </thead>\n",
       "  <tbody>\n",
       "    <tr>\n",
       "      <th>0</th>\n",
       "      <td>01-01-2016 21:11</td>\n",
       "      <td>01-01-2016 21:17</td>\n",
       "      <td>Business</td>\n",
       "      <td>Fort Pierce</td>\n",
       "      <td>Fort Pierce</td>\n",
       "      <td>5.1</td>\n",
       "      <td>Meal/Entertain</td>\n",
       "    </tr>\n",
       "    <tr>\n",
       "      <th>1</th>\n",
       "      <td>01-02-2016 01:25</td>\n",
       "      <td>01-02-2016 01:37</td>\n",
       "      <td>Business</td>\n",
       "      <td>Fort Pierce</td>\n",
       "      <td>Fort Pierce</td>\n",
       "      <td>5.0</td>\n",
       "      <td>NaN</td>\n",
       "    </tr>\n",
       "    <tr>\n",
       "      <th>2</th>\n",
       "      <td>01-02-2016 20:25</td>\n",
       "      <td>01-02-2016 20:38</td>\n",
       "      <td>Business</td>\n",
       "      <td>Fort Pierce</td>\n",
       "      <td>Fort Pierce</td>\n",
       "      <td>4.8</td>\n",
       "      <td>Errand/Supplies</td>\n",
       "    </tr>\n",
       "    <tr>\n",
       "      <th>3</th>\n",
       "      <td>01-05-2016 17:31</td>\n",
       "      <td>01-05-2016 17:45</td>\n",
       "      <td>Business</td>\n",
       "      <td>Fort Pierce</td>\n",
       "      <td>Fort Pierce</td>\n",
       "      <td>4.7</td>\n",
       "      <td>Meeting</td>\n",
       "    </tr>\n",
       "    <tr>\n",
       "      <th>4</th>\n",
       "      <td>01-06-2016 14:42</td>\n",
       "      <td>01-06-2016 15:49</td>\n",
       "      <td>Business</td>\n",
       "      <td>Fort Pierce</td>\n",
       "      <td>West Palm Beach</td>\n",
       "      <td>63.7</td>\n",
       "      <td>Customer Visit</td>\n",
       "    </tr>\n",
       "  </tbody>\n",
       "</table>\n",
       "</div>"
      ],
      "text/plain": [
       "        START_DATE*         END_DATE* CATEGORY*       START*            STOP*  \\\n",
       "0  01-01-2016 21:11  01-01-2016 21:17  Business  Fort Pierce      Fort Pierce   \n",
       "1  01-02-2016 01:25  01-02-2016 01:37  Business  Fort Pierce      Fort Pierce   \n",
       "2  01-02-2016 20:25  01-02-2016 20:38  Business  Fort Pierce      Fort Pierce   \n",
       "3  01-05-2016 17:31  01-05-2016 17:45  Business  Fort Pierce      Fort Pierce   \n",
       "4  01-06-2016 14:42  01-06-2016 15:49  Business  Fort Pierce  West Palm Beach   \n",
       "\n",
       "   MILES*         PURPOSE*  \n",
       "0     5.1   Meal/Entertain  \n",
       "1     5.0              NaN  \n",
       "2     4.8  Errand/Supplies  \n",
       "3     4.7          Meeting  \n",
       "4    63.7   Customer Visit  "
      ]
     },
     "execution_count": 3,
     "metadata": {},
     "output_type": "execute_result"
    }
   ],
   "source": [
    "uber_drives.head()"
   ]
  },
  {
   "cell_type": "markdown",
   "id": "13abe30e",
   "metadata": {},
   "source": [
    "# Q1. Show the last 10 records of the dataset. (2 point)"
   ]
  },
  {
   "cell_type": "code",
   "execution_count": 4,
   "id": "72bdda16",
   "metadata": {},
   "outputs": [
    {
     "data": {
      "text/html": [
       "<div>\n",
       "<style scoped>\n",
       "    .dataframe tbody tr th:only-of-type {\n",
       "        vertical-align: middle;\n",
       "    }\n",
       "\n",
       "    .dataframe tbody tr th {\n",
       "        vertical-align: top;\n",
       "    }\n",
       "\n",
       "    .dataframe thead th {\n",
       "        text-align: right;\n",
       "    }\n",
       "</style>\n",
       "<table border=\"1\" class=\"dataframe\">\n",
       "  <thead>\n",
       "    <tr style=\"text-align: right;\">\n",
       "      <th></th>\n",
       "      <th>START_DATE*</th>\n",
       "      <th>END_DATE*</th>\n",
       "      <th>CATEGORY*</th>\n",
       "      <th>START*</th>\n",
       "      <th>STOP*</th>\n",
       "      <th>MILES*</th>\n",
       "      <th>PURPOSE*</th>\n",
       "    </tr>\n",
       "  </thead>\n",
       "  <tbody>\n",
       "    <tr>\n",
       "      <th>1145</th>\n",
       "      <td>12/30/2016 10:15</td>\n",
       "      <td>12/30/2016 10:33</td>\n",
       "      <td>Business</td>\n",
       "      <td>Karachi</td>\n",
       "      <td>Karachi</td>\n",
       "      <td>2.8</td>\n",
       "      <td>Errand/Supplies</td>\n",
       "    </tr>\n",
       "    <tr>\n",
       "      <th>1146</th>\n",
       "      <td>12/30/2016 11:31</td>\n",
       "      <td>12/30/2016 11:56</td>\n",
       "      <td>Business</td>\n",
       "      <td>Karachi</td>\n",
       "      <td>Karachi</td>\n",
       "      <td>2.9</td>\n",
       "      <td>Errand/Supplies</td>\n",
       "    </tr>\n",
       "    <tr>\n",
       "      <th>1147</th>\n",
       "      <td>12/30/2016 15:41</td>\n",
       "      <td>12/30/2016 16:03</td>\n",
       "      <td>Business</td>\n",
       "      <td>Karachi</td>\n",
       "      <td>Karachi</td>\n",
       "      <td>4.6</td>\n",
       "      <td>Errand/Supplies</td>\n",
       "    </tr>\n",
       "    <tr>\n",
       "      <th>1148</th>\n",
       "      <td>12/30/2016 16:45</td>\n",
       "      <td>12/30/2016 17:08</td>\n",
       "      <td>Business</td>\n",
       "      <td>Karachi</td>\n",
       "      <td>Karachi</td>\n",
       "      <td>4.6</td>\n",
       "      <td>Meeting</td>\n",
       "    </tr>\n",
       "    <tr>\n",
       "      <th>1149</th>\n",
       "      <td>12/30/2016 23:06</td>\n",
       "      <td>12/30/2016 23:10</td>\n",
       "      <td>Business</td>\n",
       "      <td>Karachi</td>\n",
       "      <td>Karachi</td>\n",
       "      <td>0.8</td>\n",
       "      <td>Customer Visit</td>\n",
       "    </tr>\n",
       "    <tr>\n",
       "      <th>1150</th>\n",
       "      <td>12/31/2016 1:07</td>\n",
       "      <td>12/31/2016 1:14</td>\n",
       "      <td>Business</td>\n",
       "      <td>Karachi</td>\n",
       "      <td>Karachi</td>\n",
       "      <td>0.7</td>\n",
       "      <td>Meeting</td>\n",
       "    </tr>\n",
       "    <tr>\n",
       "      <th>1151</th>\n",
       "      <td>12/31/2016 13:24</td>\n",
       "      <td>12/31/2016 13:42</td>\n",
       "      <td>Business</td>\n",
       "      <td>Karachi</td>\n",
       "      <td>Unknown Location</td>\n",
       "      <td>3.9</td>\n",
       "      <td>Temporary Site</td>\n",
       "    </tr>\n",
       "    <tr>\n",
       "      <th>1152</th>\n",
       "      <td>12/31/2016 15:03</td>\n",
       "      <td>12/31/2016 15:38</td>\n",
       "      <td>Business</td>\n",
       "      <td>Unknown Location</td>\n",
       "      <td>Unknown Location</td>\n",
       "      <td>16.2</td>\n",
       "      <td>Meeting</td>\n",
       "    </tr>\n",
       "    <tr>\n",
       "      <th>1153</th>\n",
       "      <td>12/31/2016 21:32</td>\n",
       "      <td>12/31/2016 21:50</td>\n",
       "      <td>Business</td>\n",
       "      <td>Katunayake</td>\n",
       "      <td>Gampaha</td>\n",
       "      <td>6.4</td>\n",
       "      <td>Temporary Site</td>\n",
       "    </tr>\n",
       "    <tr>\n",
       "      <th>1154</th>\n",
       "      <td>12/31/2016 22:08</td>\n",
       "      <td>12/31/2016 23:51</td>\n",
       "      <td>Business</td>\n",
       "      <td>Gampaha</td>\n",
       "      <td>Ilukwatta</td>\n",
       "      <td>48.2</td>\n",
       "      <td>Temporary Site</td>\n",
       "    </tr>\n",
       "  </tbody>\n",
       "</table>\n",
       "</div>"
      ],
      "text/plain": [
       "           START_DATE*         END_DATE* CATEGORY*            START*  \\\n",
       "1145  12/30/2016 10:15  12/30/2016 10:33  Business           Karachi   \n",
       "1146  12/30/2016 11:31  12/30/2016 11:56  Business           Karachi   \n",
       "1147  12/30/2016 15:41  12/30/2016 16:03  Business           Karachi   \n",
       "1148  12/30/2016 16:45  12/30/2016 17:08  Business           Karachi   \n",
       "1149  12/30/2016 23:06  12/30/2016 23:10  Business           Karachi   \n",
       "1150   12/31/2016 1:07   12/31/2016 1:14  Business           Karachi   \n",
       "1151  12/31/2016 13:24  12/31/2016 13:42  Business           Karachi   \n",
       "1152  12/31/2016 15:03  12/31/2016 15:38  Business  Unknown Location   \n",
       "1153  12/31/2016 21:32  12/31/2016 21:50  Business        Katunayake   \n",
       "1154  12/31/2016 22:08  12/31/2016 23:51  Business           Gampaha   \n",
       "\n",
       "                 STOP*  MILES*         PURPOSE*  \n",
       "1145           Karachi     2.8  Errand/Supplies  \n",
       "1146           Karachi     2.9  Errand/Supplies  \n",
       "1147           Karachi     4.6  Errand/Supplies  \n",
       "1148           Karachi     4.6          Meeting  \n",
       "1149           Karachi     0.8   Customer Visit  \n",
       "1150           Karachi     0.7          Meeting  \n",
       "1151  Unknown Location     3.9   Temporary Site  \n",
       "1152  Unknown Location    16.2          Meeting  \n",
       "1153           Gampaha     6.4   Temporary Site  \n",
       "1154         Ilukwatta    48.2   Temporary Site  "
      ]
     },
     "execution_count": 4,
     "metadata": {},
     "output_type": "execute_result"
    }
   ],
   "source": [
    "uber_drives.tail(10)"
   ]
  },
  {
   "cell_type": "markdown",
   "id": "03504d10",
   "metadata": {},
   "source": [
    "we can see over here the last 10 records we see that last row as 1154"
   ]
  },
  {
   "cell_type": "markdown",
   "id": "b2bc6be6",
   "metadata": {},
   "source": [
    "# Q2. Show the first 10 records of the dataset. (2 points)"
   ]
  },
  {
   "cell_type": "code",
   "execution_count": 5,
   "id": "8ee64012",
   "metadata": {},
   "outputs": [
    {
     "data": {
      "text/html": [
       "<div>\n",
       "<style scoped>\n",
       "    .dataframe tbody tr th:only-of-type {\n",
       "        vertical-align: middle;\n",
       "    }\n",
       "\n",
       "    .dataframe tbody tr th {\n",
       "        vertical-align: top;\n",
       "    }\n",
       "\n",
       "    .dataframe thead th {\n",
       "        text-align: right;\n",
       "    }\n",
       "</style>\n",
       "<table border=\"1\" class=\"dataframe\">\n",
       "  <thead>\n",
       "    <tr style=\"text-align: right;\">\n",
       "      <th></th>\n",
       "      <th>START_DATE*</th>\n",
       "      <th>END_DATE*</th>\n",
       "      <th>CATEGORY*</th>\n",
       "      <th>START*</th>\n",
       "      <th>STOP*</th>\n",
       "      <th>MILES*</th>\n",
       "      <th>PURPOSE*</th>\n",
       "    </tr>\n",
       "  </thead>\n",
       "  <tbody>\n",
       "    <tr>\n",
       "      <th>0</th>\n",
       "      <td>01-01-2016 21:11</td>\n",
       "      <td>01-01-2016 21:17</td>\n",
       "      <td>Business</td>\n",
       "      <td>Fort Pierce</td>\n",
       "      <td>Fort Pierce</td>\n",
       "      <td>5.1</td>\n",
       "      <td>Meal/Entertain</td>\n",
       "    </tr>\n",
       "    <tr>\n",
       "      <th>1</th>\n",
       "      <td>01-02-2016 01:25</td>\n",
       "      <td>01-02-2016 01:37</td>\n",
       "      <td>Business</td>\n",
       "      <td>Fort Pierce</td>\n",
       "      <td>Fort Pierce</td>\n",
       "      <td>5.0</td>\n",
       "      <td>NaN</td>\n",
       "    </tr>\n",
       "    <tr>\n",
       "      <th>2</th>\n",
       "      <td>01-02-2016 20:25</td>\n",
       "      <td>01-02-2016 20:38</td>\n",
       "      <td>Business</td>\n",
       "      <td>Fort Pierce</td>\n",
       "      <td>Fort Pierce</td>\n",
       "      <td>4.8</td>\n",
       "      <td>Errand/Supplies</td>\n",
       "    </tr>\n",
       "    <tr>\n",
       "      <th>3</th>\n",
       "      <td>01-05-2016 17:31</td>\n",
       "      <td>01-05-2016 17:45</td>\n",
       "      <td>Business</td>\n",
       "      <td>Fort Pierce</td>\n",
       "      <td>Fort Pierce</td>\n",
       "      <td>4.7</td>\n",
       "      <td>Meeting</td>\n",
       "    </tr>\n",
       "    <tr>\n",
       "      <th>4</th>\n",
       "      <td>01-06-2016 14:42</td>\n",
       "      <td>01-06-2016 15:49</td>\n",
       "      <td>Business</td>\n",
       "      <td>Fort Pierce</td>\n",
       "      <td>West Palm Beach</td>\n",
       "      <td>63.7</td>\n",
       "      <td>Customer Visit</td>\n",
       "    </tr>\n",
       "    <tr>\n",
       "      <th>5</th>\n",
       "      <td>01-06-2016 17:15</td>\n",
       "      <td>01-06-2016 17:19</td>\n",
       "      <td>Business</td>\n",
       "      <td>West Palm Beach</td>\n",
       "      <td>West Palm Beach</td>\n",
       "      <td>4.3</td>\n",
       "      <td>Meal/Entertain</td>\n",
       "    </tr>\n",
       "    <tr>\n",
       "      <th>6</th>\n",
       "      <td>01-06-2016 17:30</td>\n",
       "      <td>01-06-2016 17:35</td>\n",
       "      <td>Business</td>\n",
       "      <td>West Palm Beach</td>\n",
       "      <td>Palm Beach</td>\n",
       "      <td>7.1</td>\n",
       "      <td>Meeting</td>\n",
       "    </tr>\n",
       "    <tr>\n",
       "      <th>7</th>\n",
       "      <td>01-07-2016 13:27</td>\n",
       "      <td>01-07-2016 13:33</td>\n",
       "      <td>Business</td>\n",
       "      <td>Cary</td>\n",
       "      <td>Cary</td>\n",
       "      <td>0.8</td>\n",
       "      <td>Meeting</td>\n",
       "    </tr>\n",
       "    <tr>\n",
       "      <th>8</th>\n",
       "      <td>01-10-2016 08:05</td>\n",
       "      <td>01-10-2016 08:25</td>\n",
       "      <td>Business</td>\n",
       "      <td>Cary</td>\n",
       "      <td>Morrisville</td>\n",
       "      <td>8.3</td>\n",
       "      <td>Meeting</td>\n",
       "    </tr>\n",
       "    <tr>\n",
       "      <th>9</th>\n",
       "      <td>01-10-2016 12:17</td>\n",
       "      <td>01-10-2016 12:44</td>\n",
       "      <td>Business</td>\n",
       "      <td>Jamaica</td>\n",
       "      <td>New York</td>\n",
       "      <td>16.5</td>\n",
       "      <td>Customer Visit</td>\n",
       "    </tr>\n",
       "  </tbody>\n",
       "</table>\n",
       "</div>"
      ],
      "text/plain": [
       "        START_DATE*         END_DATE* CATEGORY*           START*  \\\n",
       "0  01-01-2016 21:11  01-01-2016 21:17  Business      Fort Pierce   \n",
       "1  01-02-2016 01:25  01-02-2016 01:37  Business      Fort Pierce   \n",
       "2  01-02-2016 20:25  01-02-2016 20:38  Business      Fort Pierce   \n",
       "3  01-05-2016 17:31  01-05-2016 17:45  Business      Fort Pierce   \n",
       "4  01-06-2016 14:42  01-06-2016 15:49  Business      Fort Pierce   \n",
       "5  01-06-2016 17:15  01-06-2016 17:19  Business  West Palm Beach   \n",
       "6  01-06-2016 17:30  01-06-2016 17:35  Business  West Palm Beach   \n",
       "7  01-07-2016 13:27  01-07-2016 13:33  Business             Cary   \n",
       "8  01-10-2016 08:05  01-10-2016 08:25  Business             Cary   \n",
       "9  01-10-2016 12:17  01-10-2016 12:44  Business          Jamaica   \n",
       "\n",
       "             STOP*  MILES*         PURPOSE*  \n",
       "0      Fort Pierce     5.1   Meal/Entertain  \n",
       "1      Fort Pierce     5.0              NaN  \n",
       "2      Fort Pierce     4.8  Errand/Supplies  \n",
       "3      Fort Pierce     4.7          Meeting  \n",
       "4  West Palm Beach    63.7   Customer Visit  \n",
       "5  West Palm Beach     4.3   Meal/Entertain  \n",
       "6       Palm Beach     7.1          Meeting  \n",
       "7             Cary     0.8          Meeting  \n",
       "8      Morrisville     8.3          Meeting  \n",
       "9         New York    16.5   Customer Visit  "
      ]
     },
     "execution_count": 5,
     "metadata": {},
     "output_type": "execute_result"
    }
   ],
   "source": [
    "uber_drives.head(10)"
   ]
  },
  {
   "cell_type": "markdown",
   "id": "b932592f",
   "metadata": {},
   "source": [
    "We can see the first 10 records in given dataset"
   ]
  },
  {
   "cell_type": "markdown",
   "id": "901218a5",
   "metadata": {},
   "source": [
    "# Q3. Show the dimension(number of rows and columns) of the dataset. (2 points)"
   ]
  },
  {
   "cell_type": "code",
   "execution_count": 6,
   "id": "840edb53",
   "metadata": {},
   "outputs": [
    {
     "data": {
      "text/plain": [
       "(1155, 7)"
      ]
     },
     "execution_count": 6,
     "metadata": {},
     "output_type": "execute_result"
    }
   ],
   "source": [
    "uber_drives.shape"
   ]
  },
  {
   "cell_type": "code",
   "execution_count": 7,
   "id": "3ab45f5d",
   "metadata": {},
   "outputs": [
    {
     "name": "stdout",
     "output_type": "stream",
     "text": [
      "Total Number of Rows are 1155 and Total Number of Columns are 7\n"
     ]
    }
   ],
   "source": [
    "print(\"Total Number of Rows are\",uber_drives.shape[0],\"and\",\"Total Number of Columns are\",uber_drives.shape[1])"
   ]
  },
  {
   "cell_type": "markdown",
   "id": "0f1391f2",
   "metadata": {},
   "source": [
    "# Q4. Show the size (Total number of elements) of the dataset. (2 points)"
   ]
  },
  {
   "cell_type": "code",
   "execution_count": 8,
   "id": "3edb41e7",
   "metadata": {},
   "outputs": [
    {
     "data": {
      "text/plain": [
       "8085"
      ]
     },
     "execution_count": 8,
     "metadata": {},
     "output_type": "execute_result"
    }
   ],
   "source": [
    "uber_drives.size"
   ]
  },
  {
   "cell_type": "code",
   "execution_count": 9,
   "id": "7069a506",
   "metadata": {},
   "outputs": [
    {
     "name": "stdout",
     "output_type": "stream",
     "text": [
      "We have total 8085 number of elements in given dataset\n"
     ]
    }
   ],
   "source": [
    "print(\"We have total\",uber_drives.size,\"number of elements in given dataset\")"
   ]
  },
  {
   "cell_type": "markdown",
   "id": "275424d9",
   "metadata": {},
   "source": [
    "# Q5. Display the information about all the variables of the data set. What can you infer from the output?(1 +2 points)¶"
   ]
  },
  {
   "cell_type": "code",
   "execution_count": 10,
   "id": "e8895940",
   "metadata": {},
   "outputs": [
    {
     "name": "stdout",
     "output_type": "stream",
     "text": [
      "<class 'pandas.core.frame.DataFrame'>\n",
      "RangeIndex: 1155 entries, 0 to 1154\n",
      "Data columns (total 7 columns):\n",
      " #   Column       Non-Null Count  Dtype  \n",
      "---  ------       --------------  -----  \n",
      " 0   START_DATE*  1155 non-null   object \n",
      " 1   END_DATE*    1155 non-null   object \n",
      " 2   CATEGORY*    1155 non-null   object \n",
      " 3   START*       1155 non-null   object \n",
      " 4   STOP*        1155 non-null   object \n",
      " 5   MILES*       1155 non-null   float64\n",
      " 6   PURPOSE*     653 non-null    object \n",
      "dtypes: float64(1), object(6)\n",
      "memory usage: 63.3+ KB\n"
     ]
    }
   ],
   "source": [
    "uber_drives.info()"
   ]
  },
  {
   "cell_type": "markdown",
   "id": "ff51eb8a",
   "metadata": {},
   "source": [
    "from this output we can get the various types of information, like we have we have total 7 columns and 1155 rows, we have variables = START_DATE*, END_DATE* , CATEGORY*, START*,STOP*, MILES* , PURPOSE* . Also we see the datatypes of these as well. number of non-null values in a variable and also the memory usage of dataset which is 63.3kb"
   ]
  },
  {
   "cell_type": "markdown",
   "id": "11a69358",
   "metadata": {},
   "source": [
    "# Q6. Check for missing values. (2 points)"
   ]
  },
  {
   "cell_type": "code",
   "execution_count": 11,
   "id": "039c614c",
   "metadata": {},
   "outputs": [
    {
     "data": {
      "text/html": [
       "<div>\n",
       "<style scoped>\n",
       "    .dataframe tbody tr th:only-of-type {\n",
       "        vertical-align: middle;\n",
       "    }\n",
       "\n",
       "    .dataframe tbody tr th {\n",
       "        vertical-align: top;\n",
       "    }\n",
       "\n",
       "    .dataframe thead th {\n",
       "        text-align: right;\n",
       "    }\n",
       "</style>\n",
       "<table border=\"1\" class=\"dataframe\">\n",
       "  <thead>\n",
       "    <tr style=\"text-align: right;\">\n",
       "      <th></th>\n",
       "      <th>START_DATE*</th>\n",
       "      <th>END_DATE*</th>\n",
       "      <th>CATEGORY*</th>\n",
       "      <th>START*</th>\n",
       "      <th>STOP*</th>\n",
       "      <th>MILES*</th>\n",
       "      <th>PURPOSE*</th>\n",
       "    </tr>\n",
       "  </thead>\n",
       "  <tbody>\n",
       "    <tr>\n",
       "      <th>0</th>\n",
       "      <td>False</td>\n",
       "      <td>False</td>\n",
       "      <td>False</td>\n",
       "      <td>False</td>\n",
       "      <td>False</td>\n",
       "      <td>False</td>\n",
       "      <td>False</td>\n",
       "    </tr>\n",
       "    <tr>\n",
       "      <th>1</th>\n",
       "      <td>False</td>\n",
       "      <td>False</td>\n",
       "      <td>False</td>\n",
       "      <td>False</td>\n",
       "      <td>False</td>\n",
       "      <td>False</td>\n",
       "      <td>True</td>\n",
       "    </tr>\n",
       "    <tr>\n",
       "      <th>2</th>\n",
       "      <td>False</td>\n",
       "      <td>False</td>\n",
       "      <td>False</td>\n",
       "      <td>False</td>\n",
       "      <td>False</td>\n",
       "      <td>False</td>\n",
       "      <td>False</td>\n",
       "    </tr>\n",
       "    <tr>\n",
       "      <th>3</th>\n",
       "      <td>False</td>\n",
       "      <td>False</td>\n",
       "      <td>False</td>\n",
       "      <td>False</td>\n",
       "      <td>False</td>\n",
       "      <td>False</td>\n",
       "      <td>False</td>\n",
       "    </tr>\n",
       "    <tr>\n",
       "      <th>4</th>\n",
       "      <td>False</td>\n",
       "      <td>False</td>\n",
       "      <td>False</td>\n",
       "      <td>False</td>\n",
       "      <td>False</td>\n",
       "      <td>False</td>\n",
       "      <td>False</td>\n",
       "    </tr>\n",
       "    <tr>\n",
       "      <th>...</th>\n",
       "      <td>...</td>\n",
       "      <td>...</td>\n",
       "      <td>...</td>\n",
       "      <td>...</td>\n",
       "      <td>...</td>\n",
       "      <td>...</td>\n",
       "      <td>...</td>\n",
       "    </tr>\n",
       "    <tr>\n",
       "      <th>1150</th>\n",
       "      <td>False</td>\n",
       "      <td>False</td>\n",
       "      <td>False</td>\n",
       "      <td>False</td>\n",
       "      <td>False</td>\n",
       "      <td>False</td>\n",
       "      <td>False</td>\n",
       "    </tr>\n",
       "    <tr>\n",
       "      <th>1151</th>\n",
       "      <td>False</td>\n",
       "      <td>False</td>\n",
       "      <td>False</td>\n",
       "      <td>False</td>\n",
       "      <td>False</td>\n",
       "      <td>False</td>\n",
       "      <td>False</td>\n",
       "    </tr>\n",
       "    <tr>\n",
       "      <th>1152</th>\n",
       "      <td>False</td>\n",
       "      <td>False</td>\n",
       "      <td>False</td>\n",
       "      <td>False</td>\n",
       "      <td>False</td>\n",
       "      <td>False</td>\n",
       "      <td>False</td>\n",
       "    </tr>\n",
       "    <tr>\n",
       "      <th>1153</th>\n",
       "      <td>False</td>\n",
       "      <td>False</td>\n",
       "      <td>False</td>\n",
       "      <td>False</td>\n",
       "      <td>False</td>\n",
       "      <td>False</td>\n",
       "      <td>False</td>\n",
       "    </tr>\n",
       "    <tr>\n",
       "      <th>1154</th>\n",
       "      <td>False</td>\n",
       "      <td>False</td>\n",
       "      <td>False</td>\n",
       "      <td>False</td>\n",
       "      <td>False</td>\n",
       "      <td>False</td>\n",
       "      <td>False</td>\n",
       "    </tr>\n",
       "  </tbody>\n",
       "</table>\n",
       "<p>1155 rows × 7 columns</p>\n",
       "</div>"
      ],
      "text/plain": [
       "      START_DATE*  END_DATE*  CATEGORY*  START*  STOP*  MILES*  PURPOSE*\n",
       "0           False      False      False   False  False   False     False\n",
       "1           False      False      False   False  False   False      True\n",
       "2           False      False      False   False  False   False     False\n",
       "3           False      False      False   False  False   False     False\n",
       "4           False      False      False   False  False   False     False\n",
       "...           ...        ...        ...     ...    ...     ...       ...\n",
       "1150        False      False      False   False  False   False     False\n",
       "1151        False      False      False   False  False   False     False\n",
       "1152        False      False      False   False  False   False     False\n",
       "1153        False      False      False   False  False   False     False\n",
       "1154        False      False      False   False  False   False     False\n",
       "\n",
       "[1155 rows x 7 columns]"
      ]
     },
     "execution_count": 11,
     "metadata": {},
     "output_type": "execute_result"
    }
   ],
   "source": [
    "uber_drives.isnull()"
   ]
  },
  {
   "cell_type": "markdown",
   "id": "96a71637",
   "metadata": {},
   "source": [
    "# Q7. How many missing values are present in the entire dataset? (2 points)"
   ]
  },
  {
   "cell_type": "code",
   "execution_count": 12,
   "id": "96118b45",
   "metadata": {},
   "outputs": [
    {
     "data": {
      "text/plain": [
       "START_DATE*      0\n",
       "END_DATE*        0\n",
       "CATEGORY*        0\n",
       "START*           0\n",
       "STOP*            0\n",
       "MILES*           0\n",
       "PURPOSE*       502\n",
       "dtype: int64"
      ]
     },
     "execution_count": 12,
     "metadata": {},
     "output_type": "execute_result"
    }
   ],
   "source": [
    "uber_drives.isnull().sum()"
   ]
  },
  {
   "cell_type": "markdown",
   "id": "d19638df",
   "metadata": {},
   "source": [
    "we have 502 missing values in entire dataset"
   ]
  },
  {
   "cell_type": "markdown",
   "id": "86353690",
   "metadata": {},
   "source": [
    "# Q8. Get the summary of the original data. (2 points)."
   ]
  },
  {
   "cell_type": "code",
   "execution_count": 13,
   "id": "2cd3e1e1",
   "metadata": {},
   "outputs": [
    {
     "data": {
      "text/html": [
       "<div>\n",
       "<style scoped>\n",
       "    .dataframe tbody tr th:only-of-type {\n",
       "        vertical-align: middle;\n",
       "    }\n",
       "\n",
       "    .dataframe tbody tr th {\n",
       "        vertical-align: top;\n",
       "    }\n",
       "\n",
       "    .dataframe thead th {\n",
       "        text-align: right;\n",
       "    }\n",
       "</style>\n",
       "<table border=\"1\" class=\"dataframe\">\n",
       "  <thead>\n",
       "    <tr style=\"text-align: right;\">\n",
       "      <th></th>\n",
       "      <th>count</th>\n",
       "      <th>unique</th>\n",
       "      <th>top</th>\n",
       "      <th>freq</th>\n",
       "      <th>mean</th>\n",
       "      <th>std</th>\n",
       "      <th>min</th>\n",
       "      <th>25%</th>\n",
       "      <th>50%</th>\n",
       "      <th>75%</th>\n",
       "      <th>max</th>\n",
       "    </tr>\n",
       "  </thead>\n",
       "  <tbody>\n",
       "    <tr>\n",
       "      <th>START_DATE*</th>\n",
       "      <td>1155</td>\n",
       "      <td>1154</td>\n",
       "      <td>6/28/2016 23:34</td>\n",
       "      <td>2</td>\n",
       "      <td>NaN</td>\n",
       "      <td>NaN</td>\n",
       "      <td>NaN</td>\n",
       "      <td>NaN</td>\n",
       "      <td>NaN</td>\n",
       "      <td>NaN</td>\n",
       "      <td>NaN</td>\n",
       "    </tr>\n",
       "    <tr>\n",
       "      <th>END_DATE*</th>\n",
       "      <td>1155</td>\n",
       "      <td>1154</td>\n",
       "      <td>6/28/2016 23:59</td>\n",
       "      <td>2</td>\n",
       "      <td>NaN</td>\n",
       "      <td>NaN</td>\n",
       "      <td>NaN</td>\n",
       "      <td>NaN</td>\n",
       "      <td>NaN</td>\n",
       "      <td>NaN</td>\n",
       "      <td>NaN</td>\n",
       "    </tr>\n",
       "    <tr>\n",
       "      <th>CATEGORY*</th>\n",
       "      <td>1155</td>\n",
       "      <td>2</td>\n",
       "      <td>Business</td>\n",
       "      <td>1078</td>\n",
       "      <td>NaN</td>\n",
       "      <td>NaN</td>\n",
       "      <td>NaN</td>\n",
       "      <td>NaN</td>\n",
       "      <td>NaN</td>\n",
       "      <td>NaN</td>\n",
       "      <td>NaN</td>\n",
       "    </tr>\n",
       "    <tr>\n",
       "      <th>START*</th>\n",
       "      <td>1155</td>\n",
       "      <td>176</td>\n",
       "      <td>Cary</td>\n",
       "      <td>201</td>\n",
       "      <td>NaN</td>\n",
       "      <td>NaN</td>\n",
       "      <td>NaN</td>\n",
       "      <td>NaN</td>\n",
       "      <td>NaN</td>\n",
       "      <td>NaN</td>\n",
       "      <td>NaN</td>\n",
       "    </tr>\n",
       "    <tr>\n",
       "      <th>STOP*</th>\n",
       "      <td>1155</td>\n",
       "      <td>187</td>\n",
       "      <td>Cary</td>\n",
       "      <td>203</td>\n",
       "      <td>NaN</td>\n",
       "      <td>NaN</td>\n",
       "      <td>NaN</td>\n",
       "      <td>NaN</td>\n",
       "      <td>NaN</td>\n",
       "      <td>NaN</td>\n",
       "      <td>NaN</td>\n",
       "    </tr>\n",
       "    <tr>\n",
       "      <th>MILES*</th>\n",
       "      <td>1155.0</td>\n",
       "      <td>NaN</td>\n",
       "      <td>NaN</td>\n",
       "      <td>NaN</td>\n",
       "      <td>10.56684</td>\n",
       "      <td>21.579106</td>\n",
       "      <td>0.5</td>\n",
       "      <td>2.9</td>\n",
       "      <td>6.0</td>\n",
       "      <td>10.4</td>\n",
       "      <td>310.3</td>\n",
       "    </tr>\n",
       "    <tr>\n",
       "      <th>PURPOSE*</th>\n",
       "      <td>653</td>\n",
       "      <td>10</td>\n",
       "      <td>Meeting</td>\n",
       "      <td>187</td>\n",
       "      <td>NaN</td>\n",
       "      <td>NaN</td>\n",
       "      <td>NaN</td>\n",
       "      <td>NaN</td>\n",
       "      <td>NaN</td>\n",
       "      <td>NaN</td>\n",
       "      <td>NaN</td>\n",
       "    </tr>\n",
       "  </tbody>\n",
       "</table>\n",
       "</div>"
      ],
      "text/plain": [
       "              count unique              top  freq      mean        std  min  \\\n",
       "START_DATE*    1155   1154  6/28/2016 23:34     2       NaN        NaN  NaN   \n",
       "END_DATE*      1155   1154  6/28/2016 23:59     2       NaN        NaN  NaN   \n",
       "CATEGORY*      1155      2         Business  1078       NaN        NaN  NaN   \n",
       "START*         1155    176             Cary   201       NaN        NaN  NaN   \n",
       "STOP*          1155    187             Cary   203       NaN        NaN  NaN   \n",
       "MILES*       1155.0    NaN              NaN   NaN  10.56684  21.579106  0.5   \n",
       "PURPOSE*        653     10          Meeting   187       NaN        NaN  NaN   \n",
       "\n",
       "             25%  50%   75%    max  \n",
       "START_DATE*  NaN  NaN   NaN    NaN  \n",
       "END_DATE*    NaN  NaN   NaN    NaN  \n",
       "CATEGORY*    NaN  NaN   NaN    NaN  \n",
       "START*       NaN  NaN   NaN    NaN  \n",
       "STOP*        NaN  NaN   NaN    NaN  \n",
       "MILES*       2.9  6.0  10.4  310.3  \n",
       "PURPOSE*     NaN  NaN   NaN    NaN  "
      ]
     },
     "execution_count": 13,
     "metadata": {},
     "output_type": "execute_result"
    }
   ],
   "source": [
    "uber_drives.describe(include=\"all\").T"
   ]
  },
  {
   "cell_type": "markdown",
   "id": "50f1e74a",
   "metadata": {},
   "source": [
    "we have count of all columns unique values frequency, Mean, Std, Min, quartiles =25%, 50%, 75% and Max"
   ]
  },
  {
   "cell_type": "markdown",
   "id": "a5e640dc",
   "metadata": {},
   "source": [
    "# Q9. Drop the missing values and store the data in a new dataframe (name it\"df\") (2-points)"
   ]
  },
  {
   "cell_type": "code",
   "execution_count": 14,
   "id": "21419c6b",
   "metadata": {},
   "outputs": [],
   "source": [
    "df=uber_drives.copy()"
   ]
  },
  {
   "cell_type": "code",
   "execution_count": 15,
   "id": "ef5fc1ba",
   "metadata": {},
   "outputs": [
    {
     "data": {
      "text/plain": [
       "START_DATE*      0\n",
       "END_DATE*        0\n",
       "CATEGORY*        0\n",
       "START*           0\n",
       "STOP*            0\n",
       "MILES*           0\n",
       "PURPOSE*       502\n",
       "dtype: int64"
      ]
     },
     "execution_count": 15,
     "metadata": {},
     "output_type": "execute_result"
    }
   ],
   "source": [
    "df.isnull().sum()"
   ]
  },
  {
   "cell_type": "code",
   "execution_count": 16,
   "id": "158b57bf",
   "metadata": {},
   "outputs": [],
   "source": [
    "df.dropna(inplace=True)"
   ]
  },
  {
   "cell_type": "code",
   "execution_count": 17,
   "id": "cda8ce11",
   "metadata": {},
   "outputs": [
    {
     "data": {
      "text/plain": [
       "START_DATE*    0\n",
       "END_DATE*      0\n",
       "CATEGORY*      0\n",
       "START*         0\n",
       "STOP*          0\n",
       "MILES*         0\n",
       "PURPOSE*       0\n",
       "dtype: int64"
      ]
     },
     "execution_count": 17,
     "metadata": {},
     "output_type": "execute_result"
    }
   ],
   "source": [
    "df.isnull().sum()"
   ]
  },
  {
   "cell_type": "markdown",
   "id": "5fe549ea",
   "metadata": {},
   "source": [
    "# Q10. Check the information of the dataframe(df). (1 points)"
   ]
  },
  {
   "cell_type": "code",
   "execution_count": 18,
   "id": "5f96e715",
   "metadata": {},
   "outputs": [
    {
     "name": "stdout",
     "output_type": "stream",
     "text": [
      "<class 'pandas.core.frame.DataFrame'>\n",
      "Int64Index: 653 entries, 0 to 1154\n",
      "Data columns (total 7 columns):\n",
      " #   Column       Non-Null Count  Dtype  \n",
      "---  ------       --------------  -----  \n",
      " 0   START_DATE*  653 non-null    object \n",
      " 1   END_DATE*    653 non-null    object \n",
      " 2   CATEGORY*    653 non-null    object \n",
      " 3   START*       653 non-null    object \n",
      " 4   STOP*        653 non-null    object \n",
      " 5   MILES*       653 non-null    float64\n",
      " 6   PURPOSE*     653 non-null    object \n",
      "dtypes: float64(1), object(6)\n",
      "memory usage: 40.8+ KB\n"
     ]
    }
   ],
   "source": [
    "df.info()"
   ]
  },
  {
   "cell_type": "markdown",
   "id": "0f63c676",
   "metadata": {},
   "source": [
    "now we have data without null values or Na values, however we have now 653 rows and 7 columns, datatypes and memory size also\n",
    "decrease (40.8+kb)"
   ]
  },
  {
   "cell_type": "markdown",
   "id": "f05cb9a3",
   "metadata": {},
   "source": [
    "# Q11. Get the unique start locations. (2 points)"
   ]
  },
  {
   "cell_type": "code",
   "execution_count": 19,
   "id": "759e91f5",
   "metadata": {},
   "outputs": [
    {
     "data": {
      "text/plain": [
       "START_DATE*    1154\n",
       "END_DATE*      1154\n",
       "CATEGORY*         2\n",
       "START*          176\n",
       "STOP*           187\n",
       "MILES*          256\n",
       "PURPOSE*         10\n",
       "dtype: int64"
      ]
     },
     "execution_count": 19,
     "metadata": {},
     "output_type": "execute_result"
    }
   ],
   "source": [
    "uber_drives.nunique()"
   ]
  },
  {
   "cell_type": "code",
   "execution_count": 20,
   "id": "38fdf0e2",
   "metadata": {},
   "outputs": [
    {
     "data": {
      "text/plain": [
       "array(['Fort Pierce', 'West Palm Beach', 'Cary', 'Jamaica', 'New York',\n",
       "       'Elmhurst', 'Midtown', 'East Harlem', 'Flatiron District',\n",
       "       'Midtown East', 'Hudson Square', 'Lower Manhattan',\n",
       "       \"Hell's Kitchen\", 'Downtown', 'Gulfton', 'Houston', 'Eagan Park',\n",
       "       'Morrisville', 'Durham', 'Farmington Woods', 'Whitebridge',\n",
       "       'Lake Wellingborough', 'Fayetteville Street', 'Raleigh',\n",
       "       'Hazelwood', 'Fairmont', 'Meredith Townes', 'Apex', 'Chapel Hill',\n",
       "       'Northwoods', 'Edgehill Farms', 'Tanglewood', 'Preston',\n",
       "       'Eastgate', 'East Elmhurst', 'Jackson Heights', 'Long Island City',\n",
       "       'Katunayaka', 'Unknown Location', 'Colombo', 'Nugegoda',\n",
       "       'Islamabad', 'R?walpindi', 'Noorpur Shahan', 'Heritage Pines',\n",
       "       'Westpark Place', 'Waverly Place', 'Wayne Ridge', 'Weston',\n",
       "       'East Austin', 'West University', 'South Congress', 'The Drag',\n",
       "       'Congress Ave District', 'Red River District', 'Georgian Acres',\n",
       "       'North Austin', 'Coxville', 'Convention Center District', 'Austin',\n",
       "       'Katy', 'Sharpstown', 'Sugar Land', 'Galveston', 'Port Bolivar',\n",
       "       'Washington Avenue', 'Briar Meadow', 'Latta', 'Jacksonville',\n",
       "       'Couples Glen', 'Kissimmee', 'Lake Reams', 'Orlando',\n",
       "       'Sand Lake Commons', 'Sky Lake', 'Daytona Beach', 'Ridgeland',\n",
       "       'Florence', 'Meredith', 'Holly Springs', 'Chessington', 'Burtrose',\n",
       "       'Parkway', 'Mcvan', 'Capitol One', 'University District',\n",
       "       'Seattle', 'Redmond', 'Bellevue', 'San Francisco', 'Palo Alto',\n",
       "       'Sunnyvale', 'Newark', 'Menlo Park', 'Old City', 'Savon Height',\n",
       "       'Kilarney Woods', 'Townes at Everett Crossing', 'Huntington Woods',\n",
       "       'Seaport', 'Medical Centre', 'Rose Hill', 'Soho', 'Tribeca',\n",
       "       'Financial District', 'Oakland', 'Emeryville', 'Berkeley',\n",
       "       'Kenner', 'CBD', 'Lower Garden District', 'Lakeview', 'Storyville',\n",
       "       'New Orleans', 'Metairie', 'Chalmette', 'Arabi',\n",
       "       'Pontchartrain Shores', 'Marigny', 'Covington', 'Mandeville',\n",
       "       'Jamestown Court', 'Summerwinds', 'Parkwood',\n",
       "       'Pontchartrain Beach', 'St Thomas', 'Banner Elk', 'Elk Park',\n",
       "       'Newland', 'Boone', 'Stonewater', 'Lexington Park at Amberly',\n",
       "       'Arlington Park at Amberly', 'Arlington', 'Kalorama Triangle',\n",
       "       'K Street', 'West End', 'Connecticut Avenue', 'Columbia Heights',\n",
       "       'Washington', 'Wake Forest', 'Lahore', 'Karachi', 'SOMISSPO',\n",
       "       'West Berkeley', 'North Berkeley Hills', 'San Jose', 'Eagle Rock',\n",
       "       'Winston Salem', 'Asheville', 'Topton', 'Hayesville',\n",
       "       'Bryson City', 'Almond', 'Mebane', 'Agnew', 'Cory', 'Renaissance',\n",
       "       'Santa Clara', 'NOMA', 'Sunnyside', 'Ingleside', 'Central',\n",
       "       'Tenderloin', 'College Avenue', 'South', 'Southside',\n",
       "       'South Berkeley', 'Mountain View', 'El Cerrito', 'Krendle Woods',\n",
       "       'Wake Co.', 'Fuquay-Varina', 'Rawalpindi', 'Katunayake', 'Gampaha'],\n",
       "      dtype=object)"
      ]
     },
     "execution_count": 20,
     "metadata": {},
     "output_type": "execute_result"
    }
   ],
   "source": [
    "uber_drives['START*'].unique()"
   ]
  },
  {
   "cell_type": "markdown",
   "id": "68b7e0db",
   "metadata": {},
   "source": [
    "# Q12. What is the total number of unique start locations? (2 points)"
   ]
  },
  {
   "cell_type": "code",
   "execution_count": 21,
   "id": "94ad1e31",
   "metadata": {},
   "outputs": [
    {
     "data": {
      "text/plain": [
       "176"
      ]
     },
     "execution_count": 21,
     "metadata": {},
     "output_type": "execute_result"
    }
   ],
   "source": [
    "uber_drives['START*'].nunique()"
   ]
  },
  {
   "cell_type": "code",
   "execution_count": 22,
   "id": "a79f6a9b",
   "metadata": {},
   "outputs": [
    {
     "name": "stdout",
     "output_type": "stream",
     "text": [
      "Total number of unique start locations is 176\n"
     ]
    }
   ],
   "source": [
    "print(\"Total number of unique start locations is\",uber_drives[\"START*\"].nunique())"
   ]
  },
  {
   "cell_type": "markdown",
   "id": "af0ec4f2",
   "metadata": {},
   "source": [
    "# Q13. What is the total number of unique stop locations. (2 points)"
   ]
  },
  {
   "cell_type": "code",
   "execution_count": 23,
   "id": "63e2cd19",
   "metadata": {},
   "outputs": [
    {
     "data": {
      "text/plain": [
       "187"
      ]
     },
     "execution_count": 23,
     "metadata": {},
     "output_type": "execute_result"
    }
   ],
   "source": [
    "uber_drives[\"STOP*\"].nunique()"
   ]
  },
  {
   "cell_type": "code",
   "execution_count": 24,
   "id": "895f2d4f",
   "metadata": {},
   "outputs": [
    {
     "name": "stdout",
     "output_type": "stream",
     "text": [
      "Total number of unique start locations is 187\n"
     ]
    }
   ],
   "source": [
    "print(\"Total number of unique start locations is\",uber_drives[\"STOP*\"].nunique())"
   ]
  },
  {
   "cell_type": "markdown",
   "id": "5ac32beb",
   "metadata": {},
   "source": [
    "# Q14. Display all Uber trips that has the starting point as San Francisco. (2 points)"
   ]
  },
  {
   "cell_type": "code",
   "execution_count": 25,
   "id": "44398641",
   "metadata": {},
   "outputs": [
    {
     "data": {
      "text/html": [
       "<div>\n",
       "<style scoped>\n",
       "    .dataframe tbody tr th:only-of-type {\n",
       "        vertical-align: middle;\n",
       "    }\n",
       "\n",
       "    .dataframe tbody tr th {\n",
       "        vertical-align: top;\n",
       "    }\n",
       "\n",
       "    .dataframe thead th {\n",
       "        text-align: right;\n",
       "    }\n",
       "</style>\n",
       "<table border=\"1\" class=\"dataframe\">\n",
       "  <thead>\n",
       "    <tr style=\"text-align: right;\">\n",
       "      <th></th>\n",
       "      <th>START_DATE*</th>\n",
       "      <th>END_DATE*</th>\n",
       "      <th>CATEGORY*</th>\n",
       "      <th>START*</th>\n",
       "      <th>STOP*</th>\n",
       "      <th>MILES*</th>\n",
       "      <th>PURPOSE*</th>\n",
       "    </tr>\n",
       "  </thead>\n",
       "  <tbody>\n",
       "    <tr>\n",
       "      <th>362</th>\n",
       "      <td>05-09-2016 14:39</td>\n",
       "      <td>05-09-2016 15:06</td>\n",
       "      <td>Business</td>\n",
       "      <td>San Francisco</td>\n",
       "      <td>Palo Alto</td>\n",
       "      <td>20.5</td>\n",
       "      <td>Between Offices</td>\n",
       "    </tr>\n",
       "    <tr>\n",
       "      <th>440</th>\n",
       "      <td>6/14/2016 16:09</td>\n",
       "      <td>6/14/2016 16:39</td>\n",
       "      <td>Business</td>\n",
       "      <td>San Francisco</td>\n",
       "      <td>Emeryville</td>\n",
       "      <td>11.6</td>\n",
       "      <td>Meeting</td>\n",
       "    </tr>\n",
       "    <tr>\n",
       "      <th>836</th>\n",
       "      <td>10/19/2016 14:02</td>\n",
       "      <td>10/19/2016 14:31</td>\n",
       "      <td>Business</td>\n",
       "      <td>San Francisco</td>\n",
       "      <td>Berkeley</td>\n",
       "      <td>10.8</td>\n",
       "      <td>NaN</td>\n",
       "    </tr>\n",
       "    <tr>\n",
       "      <th>917</th>\n",
       "      <td>11-07-2016 19:17</td>\n",
       "      <td>11-07-2016 19:57</td>\n",
       "      <td>Business</td>\n",
       "      <td>San Francisco</td>\n",
       "      <td>Berkeley</td>\n",
       "      <td>13.2</td>\n",
       "      <td>Between Offices</td>\n",
       "    </tr>\n",
       "    <tr>\n",
       "      <th>919</th>\n",
       "      <td>11-08-2016 12:16</td>\n",
       "      <td>11-08-2016 12:49</td>\n",
       "      <td>Business</td>\n",
       "      <td>San Francisco</td>\n",
       "      <td>Berkeley</td>\n",
       "      <td>11.3</td>\n",
       "      <td>Meeting</td>\n",
       "    </tr>\n",
       "    <tr>\n",
       "      <th>927</th>\n",
       "      <td>11-09-2016 18:40</td>\n",
       "      <td>11-09-2016 19:17</td>\n",
       "      <td>Business</td>\n",
       "      <td>San Francisco</td>\n",
       "      <td>Oakland</td>\n",
       "      <td>12.7</td>\n",
       "      <td>Customer Visit</td>\n",
       "    </tr>\n",
       "    <tr>\n",
       "      <th>933</th>\n",
       "      <td>11-10-2016 15:17</td>\n",
       "      <td>11-10-2016 15:22</td>\n",
       "      <td>Business</td>\n",
       "      <td>San Francisco</td>\n",
       "      <td>Oakland</td>\n",
       "      <td>9.9</td>\n",
       "      <td>Temporary Site</td>\n",
       "    </tr>\n",
       "    <tr>\n",
       "      <th>966</th>\n",
       "      <td>11/15/2016 20:44</td>\n",
       "      <td>11/15/2016 21:00</td>\n",
       "      <td>Business</td>\n",
       "      <td>San Francisco</td>\n",
       "      <td>Berkeley</td>\n",
       "      <td>11.8</td>\n",
       "      <td>Temporary Site</td>\n",
       "    </tr>\n",
       "  </tbody>\n",
       "</table>\n",
       "</div>"
      ],
      "text/plain": [
       "          START_DATE*         END_DATE* CATEGORY*         START*       STOP*  \\\n",
       "362  05-09-2016 14:39  05-09-2016 15:06  Business  San Francisco   Palo Alto   \n",
       "440   6/14/2016 16:09   6/14/2016 16:39  Business  San Francisco  Emeryville   \n",
       "836  10/19/2016 14:02  10/19/2016 14:31  Business  San Francisco    Berkeley   \n",
       "917  11-07-2016 19:17  11-07-2016 19:57  Business  San Francisco    Berkeley   \n",
       "919  11-08-2016 12:16  11-08-2016 12:49  Business  San Francisco    Berkeley   \n",
       "927  11-09-2016 18:40  11-09-2016 19:17  Business  San Francisco     Oakland   \n",
       "933  11-10-2016 15:17  11-10-2016 15:22  Business  San Francisco     Oakland   \n",
       "966  11/15/2016 20:44  11/15/2016 21:00  Business  San Francisco    Berkeley   \n",
       "\n",
       "     MILES*         PURPOSE*  \n",
       "362    20.5  Between Offices  \n",
       "440    11.6          Meeting  \n",
       "836    10.8              NaN  \n",
       "917    13.2  Between Offices  \n",
       "919    11.3          Meeting  \n",
       "927    12.7   Customer Visit  \n",
       "933     9.9   Temporary Site  \n",
       "966    11.8   Temporary Site  "
      ]
     },
     "execution_count": 25,
     "metadata": {},
     "output_type": "execute_result"
    }
   ],
   "source": [
    "uber_drives[uber_drives[\"START*\"]==\"San Francisco\"]"
   ]
  },
  {
   "cell_type": "markdown",
   "id": "5bbde93e",
   "metadata": {},
   "source": [
    "we have Total 8 trips those starts from San Francisco"
   ]
  },
  {
   "cell_type": "markdown",
   "id": "d1f98c56",
   "metadata": {},
   "source": [
    "# Q15. What is the most popular starting point for the Uber drivers? (2 points)"
   ]
  },
  {
   "cell_type": "code",
   "execution_count": 26,
   "id": "f29a7e7a",
   "metadata": {},
   "outputs": [
    {
     "data": {
      "text/plain": [
       "<bound method NDFrame._add_numeric_operations.<locals>.max of Cary                 201\n",
       "Unknown Location     148\n",
       "Morrisville           85\n",
       "Whitebridge           68\n",
       "Islamabad             57\n",
       "                    ... \n",
       "Ridgeland              1\n",
       "Daytona Beach          1\n",
       "Sky Lake               1\n",
       "Sand Lake Commons      1\n",
       "Gampaha                1\n",
       "Name: START*, Length: 176, dtype: int64>"
      ]
     },
     "execution_count": 26,
     "metadata": {},
     "output_type": "execute_result"
    }
   ],
   "source": [
    "uber_drives[\"START*\"].value_counts().max"
   ]
  },
  {
   "cell_type": "markdown",
   "id": "2f3340b9",
   "metadata": {},
   "source": [
    "Cary is the most popular starting point for the Uber drivers "
   ]
  },
  {
   "cell_type": "markdown",
   "id": "4f14c698",
   "metadata": {},
   "source": [
    "# Q16. What is the most popular dropping point for the Uber drivers? (2 points)"
   ]
  },
  {
   "cell_type": "code",
   "execution_count": 27,
   "id": "5696e472",
   "metadata": {},
   "outputs": [
    {
     "data": {
      "text/plain": [
       "<bound method NDFrame._add_numeric_operations.<locals>.max of Cary                 203\n",
       "Unknown Location     149\n",
       "Morrisville           84\n",
       "Whitebridge           65\n",
       "Islamabad             58\n",
       "                    ... \n",
       "Daytona Beach          1\n",
       "Sand Lake Commons      1\n",
       "Sky Lake               1\n",
       "Vista East             1\n",
       "Ilukwatta              1\n",
       "Name: STOP*, Length: 187, dtype: int64>"
      ]
     },
     "execution_count": 27,
     "metadata": {},
     "output_type": "execute_result"
    }
   ],
   "source": [
    "uber_drives[\"STOP*\"].value_counts().max"
   ]
  },
  {
   "cell_type": "markdown",
   "id": "f915a21a",
   "metadata": {},
   "source": [
    "Cary is the most droping point for the Uber drivers"
   ]
  },
  {
   "cell_type": "markdown",
   "id": "6a12b9cc",
   "metadata": {},
   "source": [
    "# Q17. What is the most frequent route taken by Uber drivers. (3 points)"
   ]
  },
  {
   "cell_type": "code",
   "execution_count": 55,
   "id": "56d78fbb",
   "metadata": {},
   "outputs": [
    {
     "data": {
      "text/plain": [
       "Cary                 201\n",
       "Unknown Location     148\n",
       "Morrisville           85\n",
       "Whitebridge           68\n",
       "Islamabad             57\n",
       "                    ... \n",
       "Ridgeland              1\n",
       "Daytona Beach          1\n",
       "Sky Lake               1\n",
       "Sand Lake Commons      1\n",
       "Gampaha                1\n",
       "Name: START*, Length: 176, dtype: int64"
      ]
     },
     "execution_count": 55,
     "metadata": {},
     "output_type": "execute_result"
    }
   ],
   "source": [
    "uber_drives[\"START*\"].value_counts()"
   ]
  },
  {
   "cell_type": "code",
   "execution_count": 54,
   "id": "37c81a8d",
   "metadata": {},
   "outputs": [
    {
     "data": {
      "text/plain": [
       "Cary                 203\n",
       "Unknown Location     149\n",
       "Morrisville           84\n",
       "Whitebridge           65\n",
       "Islamabad             58\n",
       "                    ... \n",
       "Daytona Beach          1\n",
       "Sand Lake Commons      1\n",
       "Sky Lake               1\n",
       "Vista East             1\n",
       "Ilukwatta              1\n",
       "Name: STOP*, Length: 187, dtype: int64"
      ]
     },
     "execution_count": 54,
     "metadata": {},
     "output_type": "execute_result"
    }
   ],
   "source": [
    "uber_drives[\"STOP*\"].value_counts()"
   ]
  },
  {
   "cell_type": "markdown",
   "id": "2b0a6431",
   "metadata": {},
   "source": [
    "Cary is the most frequent route taken by Uber drivers"
   ]
  },
  {
   "cell_type": "markdown",
   "id": "da16da7b",
   "metadata": {},
   "source": [
    "# Q18. Display all types of purposes for the trip in an array. (2 points)"
   ]
  },
  {
   "cell_type": "code",
   "execution_count": 56,
   "id": "ac719bb7",
   "metadata": {},
   "outputs": [
    {
     "data": {
      "text/plain": [
       "array(['Meal/Entertain', nan, 'Errand/Supplies', 'Meeting',\n",
       "       'Customer Visit', 'Temporary Site', 'Between Offices',\n",
       "       'Charity ($)', 'Commute', 'Moving', 'Airport/Travel'], dtype=object)"
      ]
     },
     "execution_count": 56,
     "metadata": {},
     "output_type": "execute_result"
    }
   ],
   "source": [
    "uber_drives[\"PURPOSE*\"].unique()"
   ]
  },
  {
   "cell_type": "code",
   "execution_count": 31,
   "id": "101724dd",
   "metadata": {},
   "outputs": [
    {
     "data": {
      "text/plain": [
       "array(['Meal/Entertain', 'Errand/Supplies', 'Meeting', 'Customer Visit',\n",
       "       'Meal/Entertain', 'Meeting', 'Meeting', 'Meeting',\n",
       "       'Customer Visit', 'Meeting', 'Meeting', 'Meeting',\n",
       "       'Temporary Site', 'Errand/Supplies', 'Meal/Entertain',\n",
       "       'Meal/Entertain', 'Meal/Entertain', 'Meal/Entertain',\n",
       "       'Errand/Supplies', 'Customer Visit', 'Errand/Supplies', 'Meeting',\n",
       "       'Meeting', 'Meeting', 'Customer Visit', 'Errand/Supplies',\n",
       "       'Errand/Supplies', 'Meal/Entertain', 'Meal/Entertain',\n",
       "       'Meal/Entertain', 'Meal/Entertain', 'Temporary Site', 'Meeting',\n",
       "       'Meeting', 'Customer Visit', 'Errand/Supplies', 'Meal/Entertain',\n",
       "       'Meal/Entertain', 'Meal/Entertain', 'Errand/Supplies',\n",
       "       'Errand/Supplies', 'Errand/Supplies', 'Errand/Supplies', 'Meeting',\n",
       "       'Customer Visit', 'Customer Visit', 'Customer Visit',\n",
       "       'Customer Visit', 'Temporary Site', 'Meeting', 'Meeting',\n",
       "       'Customer Visit', 'Meeting', 'Meeting', 'Meeting',\n",
       "       'Errand/Supplies', 'Meal/Entertain', 'Errand/Supplies',\n",
       "       'Customer Visit', 'Customer Visit', 'Customer Visit',\n",
       "       'Meal/Entertain', 'Meeting', 'Errand/Supplies', 'Errand/Supplies',\n",
       "       'Errand/Supplies', 'Meal/Entertain', 'Meal/Entertain',\n",
       "       'Meal/Entertain', 'Meal/Entertain', 'Meeting', 'Meeting',\n",
       "       'Meeting', 'Meeting', 'Between Offices', 'Errand/Supplies',\n",
       "       'Meal/Entertain', 'Errand/Supplies', 'Customer Visit',\n",
       "       'Temporary Site', 'Meeting', 'Meal/Entertain', 'Meal/Entertain',\n",
       "       'Meal/Entertain', 'Meal/Entertain', 'Meal/Entertain',\n",
       "       'Temporary Site', 'Temporary Site', 'Temporary Site',\n",
       "       'Temporary Site', 'Customer Visit', 'Meeting', 'Meeting',\n",
       "       'Customer Visit', 'Meeting', 'Meeting', 'Meeting', 'Meeting',\n",
       "       'Meeting', 'Customer Visit', 'Temporary Site', 'Meal/Entertain',\n",
       "       'Errand/Supplies', 'Temporary Site', 'Meal/Entertain',\n",
       "       'Temporary Site', 'Errand/Supplies', 'Temporary Site',\n",
       "       'Temporary Site', 'Temporary Site', 'Customer Visit', 'Meeting',\n",
       "       'Meeting', 'Meeting', 'Meeting', 'Temporary Site', 'Meeting',\n",
       "       'Errand/Supplies', 'Errand/Supplies', 'Errand/Supplies',\n",
       "       'Errand/Supplies', 'Meal/Entertain', 'Temporary Site',\n",
       "       'Temporary Site', 'Temporary Site', 'Temporary Site',\n",
       "       'Meal/Entertain', 'Meeting', 'Customer Visit', 'Errand/Supplies',\n",
       "       'Errand/Supplies', 'Errand/Supplies', 'Meal/Entertain',\n",
       "       'Meal/Entertain', 'Meeting', 'Meeting', 'Meeting', 'Meeting',\n",
       "       'Meeting', 'Meeting', 'Customer Visit', 'Meal/Entertain',\n",
       "       'Meeting', 'Errand/Supplies', 'Meal/Entertain', 'Customer Visit',\n",
       "       'Meeting', 'Meeting', 'Customer Visit', 'Meeting', 'Meeting',\n",
       "       'Customer Visit', 'Meal/Entertain', 'Errand/Supplies', 'Meeting',\n",
       "       'Temporary Site', 'Meal/Entertain', 'Meal/Entertain',\n",
       "       'Meal/Entertain', 'Meal/Entertain', 'Meal/Entertain',\n",
       "       'Errand/Supplies', 'Customer Visit', 'Customer Visit', 'Meeting',\n",
       "       'Between Offices', 'Between Offices', 'Meal/Entertain', 'Meeting',\n",
       "       'Meeting', 'Meal/Entertain', 'Meal/Entertain', 'Meal/Entertain',\n",
       "       'Meal/Entertain', 'Meal/Entertain', 'Meal/Entertain',\n",
       "       'Errand/Supplies', 'Meal/Entertain', 'Meal/Entertain',\n",
       "       'Meal/Entertain', 'Meal/Entertain', 'Customer Visit', 'Meeting',\n",
       "       'Meal/Entertain', 'Meal/Entertain', 'Meal/Entertain', 'Meeting',\n",
       "       'Errand/Supplies', 'Customer Visit', 'Meal/Entertain',\n",
       "       'Customer Visit', 'Customer Visit', 'Meal/Entertain',\n",
       "       'Meal/Entertain', 'Errand/Supplies', 'Meeting', 'Customer Visit',\n",
       "       'Meeting', 'Meeting', 'Customer Visit', 'Meal/Entertain',\n",
       "       'Meal/Entertain', 'Meal/Entertain', 'Customer Visit',\n",
       "       'Customer Visit', 'Meeting', 'Errand/Supplies', 'Meal/Entertain',\n",
       "       'Customer Visit', 'Meal/Entertain', 'Temporary Site',\n",
       "       'Meal/Entertain', 'Meeting', 'Customer Visit', 'Meeting',\n",
       "       'Customer Visit', 'Customer Visit', 'Customer Visit', 'Meeting',\n",
       "       'Meeting', 'Meal/Entertain', 'Meal/Entertain', 'Meal/Entertain',\n",
       "       'Errand/Supplies', 'Meeting', 'Meal/Entertain', 'Errand/Supplies',\n",
       "       'Meeting', 'Meeting', 'Errand/Supplies', 'Meeting',\n",
       "       'Customer Visit', 'Meeting', 'Meal/Entertain', 'Temporary Site',\n",
       "       'Temporary Site', 'Temporary Site', 'Errand/Supplies', 'Meeting',\n",
       "       'Errand/Supplies', 'Meal/Entertain', 'Meal/Entertain',\n",
       "       'Meal/Entertain', 'Meeting', 'Meeting', 'Meeting', 'Meeting',\n",
       "       'Meal/Entertain', 'Meal/Entertain', 'Errand/Supplies',\n",
       "       'Errand/Supplies', 'Between Offices', 'Between Offices',\n",
       "       'Between Offices', 'Customer Visit', 'Customer Visit',\n",
       "       'Customer Visit', 'Meeting', 'Meeting', 'Customer Visit',\n",
       "       'Meeting', 'Meal/Entertain', 'Meal/Entertain', 'Between Offices',\n",
       "       'Meeting', 'Errand/Supplies', 'Errand/Supplies', 'Meal/Entertain',\n",
       "       'Meal/Entertain', 'Meal/Entertain', 'Errand/Supplies',\n",
       "       'Meal/Entertain', 'Meal/Entertain', 'Meal/Entertain',\n",
       "       'Errand/Supplies', 'Meeting', 'Meeting', 'Meeting',\n",
       "       'Customer Visit', 'Customer Visit', 'Between Offices',\n",
       "       'Customer Visit', 'Customer Visit', 'Customer Visit',\n",
       "       'Customer Visit', 'Meeting', 'Meeting', 'Meal/Entertain',\n",
       "       'Meal/Entertain', 'Errand/Supplies', 'Errand/Supplies',\n",
       "       'Errand/Supplies', 'Customer Visit', 'Customer Visit',\n",
       "       'Meal/Entertain', 'Meeting', 'Meal/Entertain', 'Meal/Entertain',\n",
       "       'Meal/Entertain', 'Meal/Entertain', 'Errand/Supplies',\n",
       "       'Errand/Supplies', 'Errand/Supplies', 'Errand/Supplies',\n",
       "       'Meal/Entertain', 'Customer Visit', 'Meeting', 'Meeting',\n",
       "       'Customer Visit', 'Meeting', 'Meeting', 'Meeting',\n",
       "       'Meal/Entertain', 'Errand/Supplies', 'Errand/Supplies',\n",
       "       'Errand/Supplies', 'Between Offices', 'Customer Visit',\n",
       "       'Customer Visit', 'Meal/Entertain', 'Meal/Entertain', 'Meeting',\n",
       "       'Meeting', 'Errand/Supplies', 'Errand/Supplies', 'Meal/Entertain',\n",
       "       'Meal/Entertain', 'Meeting', 'Meeting', 'Meeting', 'Meeting',\n",
       "       'Meal/Entertain', 'Errand/Supplies', 'Meal/Entertain',\n",
       "       'Errand/Supplies', 'Meal/Entertain', 'Errand/Supplies',\n",
       "       'Errand/Supplies', 'Errand/Supplies', 'Meeting', 'Meeting',\n",
       "       'Meeting', 'Errand/Supplies', 'Meal/Entertain', 'Meeting',\n",
       "       'Meeting', 'Meal/Entertain', 'Errand/Supplies', 'Errand/Supplies',\n",
       "       'Meal/Entertain', 'Meeting', 'Meal/Entertain', 'Meal/Entertain',\n",
       "       'Customer Visit', 'Meeting', 'Meeting', 'Errand/Supplies',\n",
       "       'Between Offices', 'Between Offices', 'Customer Visit',\n",
       "       'Meal/Entertain', 'Meal/Entertain', 'Meal/Entertain',\n",
       "       'Meal/Entertain', 'Errand/Supplies', 'Errand/Supplies',\n",
       "       'Errand/Supplies', 'Temporary Site', 'Between Offices',\n",
       "       'Errand/Supplies', 'Meal/Entertain', 'Meeting', 'Meeting',\n",
       "       'Meeting', 'Customer Visit', 'Meeting', 'Meeting', 'Meeting',\n",
       "       'Meeting', 'Meeting', 'Meeting', 'Meeting', 'Meeting', 'Meeting',\n",
       "       'Meeting', 'Meeting', 'Meeting', 'Meeting', 'Errand/Supplies',\n",
       "       'Errand/Supplies', 'Meeting', 'Meeting', 'Meeting',\n",
       "       'Temporary Site', 'Meeting', 'Errand/Supplies', 'Meeting',\n",
       "       'Errand/Supplies', 'Meal/Entertain', 'Meeting', 'Meal/Entertain',\n",
       "       'Customer Visit', 'Temporary Site', 'Errand/Supplies',\n",
       "       'Errand/Supplies', 'Charity ($)', 'Commute', 'Moving', 'Moving',\n",
       "       'Moving', 'Moving', 'Meeting', 'Meal/Entertain', 'Meal/Entertain',\n",
       "       'Errand/Supplies', 'Meal/Entertain', 'Customer Visit', 'Meeting',\n",
       "       'Meal/Entertain', 'Errand/Supplies', 'Meeting', 'Meal/Entertain',\n",
       "       'Meeting', 'Meeting', 'Meal/Entertain', 'Meal/Entertain',\n",
       "       'Meal/Entertain', 'Meeting', 'Customer Visit', 'Meal/Entertain',\n",
       "       'Customer Visit', 'Customer Visit', 'Meeting', 'Temporary Site',\n",
       "       'Temporary Site', 'Temporary Site', 'Temporary Site',\n",
       "       'Airport/Travel', 'Temporary Site', 'Temporary Site', 'Meeting',\n",
       "       'Meeting', 'Meeting', 'Meeting', 'Meal/Entertain',\n",
       "       'Temporary Site', 'Meal/Entertain', 'Customer Visit',\n",
       "       'Meal/Entertain', 'Errand/Supplies', 'Meeting', 'Meeting',\n",
       "       'Meeting', 'Meeting', 'Meeting', 'Meeting', 'Meeting', 'Meeting',\n",
       "       'Errand/Supplies', 'Meal/Entertain', 'Meeting', 'Meal/Entertain',\n",
       "       'Customer Visit', 'Temporary Site', 'Meeting', 'Customer Visit',\n",
       "       'Between Offices', 'Between Offices', 'Between Offices', 'Meeting',\n",
       "       'Meeting', 'Customer Visit', 'Temporary Site', 'Temporary Site',\n",
       "       'Meeting', 'Customer Visit', 'Customer Visit', 'Meeting',\n",
       "       'Errand/Supplies', 'Meeting', 'Customer Visit', 'Customer Visit',\n",
       "       'Errand/Supplies', 'Temporary Site', 'Temporary Site',\n",
       "       'Temporary Site', 'Meal/Entertain', 'Customer Visit',\n",
       "       'Meal/Entertain', 'Meal/Entertain', 'Meeting', 'Meeting',\n",
       "       'Meeting', 'Errand/Supplies', 'Customer Visit', 'Between Offices',\n",
       "       'Customer Visit', 'Meeting', 'Errand/Supplies', 'Meal/Entertain',\n",
       "       'Meal/Entertain', 'Errand/Supplies', 'Meal/Entertain',\n",
       "       'Errand/Supplies', 'Meeting', 'Meeting', 'Customer Visit',\n",
       "       'Meal/Entertain', 'Customer Visit', 'Meal/Entertain', 'Meeting',\n",
       "       'Meeting', 'Meeting', 'Meeting', 'Between Offices',\n",
       "       'Errand/Supplies', 'Meal/Entertain', 'Customer Visit',\n",
       "       'Temporary Site', 'Meeting', 'Errand/Supplies', 'Meal/Entertain',\n",
       "       'Customer Visit', 'Meal/Entertain', 'Customer Visit',\n",
       "       'Meal/Entertain', 'Customer Visit', 'Errand/Supplies',\n",
       "       'Customer Visit', 'Meal/Entertain', 'Customer Visit',\n",
       "       'Meal/Entertain', 'Meeting', 'Meeting', 'Customer Visit',\n",
       "       'Meal/Entertain', 'Errand/Supplies', 'Errand/Supplies', 'Meeting',\n",
       "       'Errand/Supplies', 'Errand/Supplies', 'Temporary Site', 'Meeting',\n",
       "       'Customer Visit', 'Meeting', 'Errand/Supplies', 'Meal/Entertain',\n",
       "       'Customer Visit', 'Meal/Entertain', 'Errand/Supplies',\n",
       "       'Errand/Supplies', 'Errand/Supplies', 'Meal/Entertain',\n",
       "       'Customer Visit', 'Meal/Entertain', 'Customer Visit',\n",
       "       'Errand/Supplies', 'Meal/Entertain', 'Meal/Entertain',\n",
       "       'Customer Visit', 'Meeting', 'Airport/Travel', 'Temporary Site',\n",
       "       'Errand/Supplies', 'Errand/Supplies', 'Errand/Supplies',\n",
       "       'Temporary Site', 'Errand/Supplies', 'Customer Visit',\n",
       "       'Customer Visit', 'Meeting', 'Errand/Supplies', 'Meeting',\n",
       "       'Errand/Supplies', 'Temporary Site', 'Errand/Supplies',\n",
       "       'Errand/Supplies', 'Customer Visit', 'Meeting', 'Errand/Supplies',\n",
       "       'Meal/Entertain', 'Meeting', 'Errand/Supplies', 'Errand/Supplies',\n",
       "       'Meeting', 'Customer Visit', 'Meeting', 'Meeting', 'Meeting',\n",
       "       'Customer Visit', 'Meeting', 'Meeting', 'Errand/Supplies',\n",
       "       'Temporary Site', 'Meeting', 'Meal/Entertain', 'Customer Visit',\n",
       "       'Meeting', 'Meeting', 'Meeting', 'Errand/Supplies',\n",
       "       'Meal/Entertain', 'Meal/Entertain', 'Meal/Entertain',\n",
       "       'Meal/Entertain', 'Errand/Supplies', 'Errand/Supplies',\n",
       "       'Errand/Supplies', 'Meal/Entertain', 'Errand/Supplies',\n",
       "       'Errand/Supplies', 'Meal/Entertain', 'Meal/Entertain',\n",
       "       'Meal/Entertain', 'Customer Visit', 'Customer Visit',\n",
       "       'Customer Visit', 'Meeting', 'Temporary Site', 'Meal/Entertain',\n",
       "       'Meal/Entertain', 'Customer Visit', 'Meeting', 'Customer Visit',\n",
       "       'Meal/Entertain', 'Errand/Supplies', 'Errand/Supplies',\n",
       "       'Meal/Entertain', 'Errand/Supplies', 'Errand/Supplies',\n",
       "       'Errand/Supplies', 'Errand/Supplies', 'Meal/Entertain',\n",
       "       'Meal/Entertain', 'Errand/Supplies', 'Errand/Supplies',\n",
       "       'Airport/Travel', 'Between Offices', 'Errand/Supplies',\n",
       "       'Meal/Entertain', 'Customer Visit', 'Meeting', 'Meeting',\n",
       "       'Errand/Supplies', 'Errand/Supplies', 'Errand/Supplies', 'Meeting',\n",
       "       'Customer Visit', 'Meeting', 'Temporary Site', 'Meeting',\n",
       "       'Temporary Site', 'Temporary Site'], dtype=object)"
      ]
     },
     "execution_count": 31,
     "metadata": {},
     "output_type": "execute_result"
    }
   ],
   "source": [
    "np.array(df[\"PURPOSE*\"])"
   ]
  },
  {
   "cell_type": "markdown",
   "id": "95f6d7bd",
   "metadata": {},
   "source": [
    "# Q19. Plot a bar graph of Purpose vs Miles(Distance). What can you infer from the plot(2 +2 points)"
   ]
  },
  {
   "cell_type": "code",
   "execution_count": 32,
   "id": "322e28e2",
   "metadata": {},
   "outputs": [
    {
     "data": {
      "text/html": [
       "<div>\n",
       "<style scoped>\n",
       "    .dataframe tbody tr th:only-of-type {\n",
       "        vertical-align: middle;\n",
       "    }\n",
       "\n",
       "    .dataframe tbody tr th {\n",
       "        vertical-align: top;\n",
       "    }\n",
       "\n",
       "    .dataframe thead th {\n",
       "        text-align: right;\n",
       "    }\n",
       "</style>\n",
       "<table border=\"1\" class=\"dataframe\">\n",
       "  <thead>\n",
       "    <tr style=\"text-align: right;\">\n",
       "      <th></th>\n",
       "      <th>START_DATE*</th>\n",
       "      <th>END_DATE*</th>\n",
       "      <th>CATEGORY*</th>\n",
       "      <th>START*</th>\n",
       "      <th>STOP*</th>\n",
       "      <th>MILES*</th>\n",
       "      <th>PURPOSE*</th>\n",
       "    </tr>\n",
       "  </thead>\n",
       "  <tbody>\n",
       "    <tr>\n",
       "      <th>0</th>\n",
       "      <td>01-01-2016 21:11</td>\n",
       "      <td>01-01-2016 21:17</td>\n",
       "      <td>Business</td>\n",
       "      <td>Fort Pierce</td>\n",
       "      <td>Fort Pierce</td>\n",
       "      <td>5.1</td>\n",
       "      <td>Meal/Entertain</td>\n",
       "    </tr>\n",
       "    <tr>\n",
       "      <th>1</th>\n",
       "      <td>01-02-2016 01:25</td>\n",
       "      <td>01-02-2016 01:37</td>\n",
       "      <td>Business</td>\n",
       "      <td>Fort Pierce</td>\n",
       "      <td>Fort Pierce</td>\n",
       "      <td>5.0</td>\n",
       "      <td>NaN</td>\n",
       "    </tr>\n",
       "    <tr>\n",
       "      <th>2</th>\n",
       "      <td>01-02-2016 20:25</td>\n",
       "      <td>01-02-2016 20:38</td>\n",
       "      <td>Business</td>\n",
       "      <td>Fort Pierce</td>\n",
       "      <td>Fort Pierce</td>\n",
       "      <td>4.8</td>\n",
       "      <td>Errand/Supplies</td>\n",
       "    </tr>\n",
       "    <tr>\n",
       "      <th>3</th>\n",
       "      <td>01-05-2016 17:31</td>\n",
       "      <td>01-05-2016 17:45</td>\n",
       "      <td>Business</td>\n",
       "      <td>Fort Pierce</td>\n",
       "      <td>Fort Pierce</td>\n",
       "      <td>4.7</td>\n",
       "      <td>Meeting</td>\n",
       "    </tr>\n",
       "    <tr>\n",
       "      <th>4</th>\n",
       "      <td>01-06-2016 14:42</td>\n",
       "      <td>01-06-2016 15:49</td>\n",
       "      <td>Business</td>\n",
       "      <td>Fort Pierce</td>\n",
       "      <td>West Palm Beach</td>\n",
       "      <td>63.7</td>\n",
       "      <td>Customer Visit</td>\n",
       "    </tr>\n",
       "  </tbody>\n",
       "</table>\n",
       "</div>"
      ],
      "text/plain": [
       "        START_DATE*         END_DATE* CATEGORY*       START*            STOP*  \\\n",
       "0  01-01-2016 21:11  01-01-2016 21:17  Business  Fort Pierce      Fort Pierce   \n",
       "1  01-02-2016 01:25  01-02-2016 01:37  Business  Fort Pierce      Fort Pierce   \n",
       "2  01-02-2016 20:25  01-02-2016 20:38  Business  Fort Pierce      Fort Pierce   \n",
       "3  01-05-2016 17:31  01-05-2016 17:45  Business  Fort Pierce      Fort Pierce   \n",
       "4  01-06-2016 14:42  01-06-2016 15:49  Business  Fort Pierce  West Palm Beach   \n",
       "\n",
       "   MILES*         PURPOSE*  \n",
       "0     5.1   Meal/Entertain  \n",
       "1     5.0              NaN  \n",
       "2     4.8  Errand/Supplies  \n",
       "3     4.7          Meeting  \n",
       "4    63.7   Customer Visit  "
      ]
     },
     "execution_count": 32,
     "metadata": {},
     "output_type": "execute_result"
    }
   ],
   "source": [
    "uber_drives.head()"
   ]
  },
  {
   "cell_type": "code",
   "execution_count": 33,
   "id": "626e6b9d",
   "metadata": {},
   "outputs": [
    {
     "data": {
      "text/html": [
       "<div>\n",
       "<style scoped>\n",
       "    .dataframe tbody tr th:only-of-type {\n",
       "        vertical-align: middle;\n",
       "    }\n",
       "\n",
       "    .dataframe tbody tr th {\n",
       "        vertical-align: top;\n",
       "    }\n",
       "\n",
       "    .dataframe thead th {\n",
       "        text-align: right;\n",
       "    }\n",
       "</style>\n",
       "<table border=\"1\" class=\"dataframe\">\n",
       "  <thead>\n",
       "    <tr style=\"text-align: right;\">\n",
       "      <th></th>\n",
       "      <th></th>\n",
       "      <th>MILES*</th>\n",
       "    </tr>\n",
       "    <tr>\n",
       "      <th>CATEGORY*</th>\n",
       "      <th>PURPOSE*</th>\n",
       "      <th></th>\n",
       "    </tr>\n",
       "  </thead>\n",
       "  <tbody>\n",
       "    <tr>\n",
       "      <th rowspan=\"7\" valign=\"top\">Business</th>\n",
       "      <th>Airport/Travel</th>\n",
       "      <td>16.5</td>\n",
       "    </tr>\n",
       "    <tr>\n",
       "      <th>Between Offices</th>\n",
       "      <td>197.0</td>\n",
       "    </tr>\n",
       "    <tr>\n",
       "      <th>Customer Visit</th>\n",
       "      <td>2089.5</td>\n",
       "    </tr>\n",
       "    <tr>\n",
       "      <th>Errand/Supplies</th>\n",
       "      <td>508.0</td>\n",
       "    </tr>\n",
       "    <tr>\n",
       "      <th>Meal/Entertain</th>\n",
       "      <td>911.7</td>\n",
       "    </tr>\n",
       "    <tr>\n",
       "      <th>Meeting</th>\n",
       "      <td>2851.3</td>\n",
       "    </tr>\n",
       "    <tr>\n",
       "      <th>Temporary Site</th>\n",
       "      <td>523.7</td>\n",
       "    </tr>\n",
       "    <tr>\n",
       "      <th rowspan=\"3\" valign=\"top\">Personal</th>\n",
       "      <th>Charity ($)</th>\n",
       "      <td>15.1</td>\n",
       "    </tr>\n",
       "    <tr>\n",
       "      <th>Commute</th>\n",
       "      <td>180.2</td>\n",
       "    </tr>\n",
       "    <tr>\n",
       "      <th>Moving</th>\n",
       "      <td>18.2</td>\n",
       "    </tr>\n",
       "  </tbody>\n",
       "</table>\n",
       "</div>"
      ],
      "text/plain": [
       "                           MILES*\n",
       "CATEGORY* PURPOSE*               \n",
       "Business  Airport/Travel     16.5\n",
       "          Between Offices   197.0\n",
       "          Customer Visit   2089.5\n",
       "          Errand/Supplies   508.0\n",
       "          Meal/Entertain    911.7\n",
       "          Meeting          2851.3\n",
       "          Temporary Site    523.7\n",
       "Personal  Charity ($)        15.1\n",
       "          Commute           180.2\n",
       "          Moving             18.2"
      ]
     },
     "execution_count": 33,
     "metadata": {},
     "output_type": "execute_result"
    }
   ],
   "source": [
    "uber_drives.groupby([\"CATEGORY*\",\"PURPOSE*\"]).sum()# miles not showing for NA"
   ]
  },
  {
   "cell_type": "code",
   "execution_count": 34,
   "id": "d1e9bb51",
   "metadata": {},
   "outputs": [
    {
     "data": {
      "text/html": [
       "<div>\n",
       "<style scoped>\n",
       "    .dataframe tbody tr th:only-of-type {\n",
       "        vertical-align: middle;\n",
       "    }\n",
       "\n",
       "    .dataframe tbody tr th {\n",
       "        vertical-align: top;\n",
       "    }\n",
       "\n",
       "    .dataframe thead th {\n",
       "        text-align: right;\n",
       "    }\n",
       "</style>\n",
       "<table border=\"1\" class=\"dataframe\">\n",
       "  <thead>\n",
       "    <tr style=\"text-align: right;\">\n",
       "      <th></th>\n",
       "      <th>START_DATE*</th>\n",
       "      <th>END_DATE*</th>\n",
       "      <th>CATEGORY*</th>\n",
       "      <th>START*</th>\n",
       "      <th>STOP*</th>\n",
       "      <th>MILES*</th>\n",
       "      <th>PURPOSE*</th>\n",
       "    </tr>\n",
       "  </thead>\n",
       "  <tbody>\n",
       "    <tr>\n",
       "      <th>0</th>\n",
       "      <td>01-01-2016 21:11</td>\n",
       "      <td>01-01-2016 21:17</td>\n",
       "      <td>Business</td>\n",
       "      <td>Fort Pierce</td>\n",
       "      <td>Fort Pierce</td>\n",
       "      <td>5.1</td>\n",
       "      <td>Meal/Entertain</td>\n",
       "    </tr>\n",
       "    <tr>\n",
       "      <th>1</th>\n",
       "      <td>01-02-2016 01:25</td>\n",
       "      <td>01-02-2016 01:37</td>\n",
       "      <td>Business</td>\n",
       "      <td>Fort Pierce</td>\n",
       "      <td>Fort Pierce</td>\n",
       "      <td>5.0</td>\n",
       "      <td>Not Applicable</td>\n",
       "    </tr>\n",
       "    <tr>\n",
       "      <th>2</th>\n",
       "      <td>01-02-2016 20:25</td>\n",
       "      <td>01-02-2016 20:38</td>\n",
       "      <td>Business</td>\n",
       "      <td>Fort Pierce</td>\n",
       "      <td>Fort Pierce</td>\n",
       "      <td>4.8</td>\n",
       "      <td>Errand/Supplies</td>\n",
       "    </tr>\n",
       "    <tr>\n",
       "      <th>3</th>\n",
       "      <td>01-05-2016 17:31</td>\n",
       "      <td>01-05-2016 17:45</td>\n",
       "      <td>Business</td>\n",
       "      <td>Fort Pierce</td>\n",
       "      <td>Fort Pierce</td>\n",
       "      <td>4.7</td>\n",
       "      <td>Meeting</td>\n",
       "    </tr>\n",
       "    <tr>\n",
       "      <th>4</th>\n",
       "      <td>01-06-2016 14:42</td>\n",
       "      <td>01-06-2016 15:49</td>\n",
       "      <td>Business</td>\n",
       "      <td>Fort Pierce</td>\n",
       "      <td>West Palm Beach</td>\n",
       "      <td>63.7</td>\n",
       "      <td>Customer Visit</td>\n",
       "    </tr>\n",
       "    <tr>\n",
       "      <th>...</th>\n",
       "      <td>...</td>\n",
       "      <td>...</td>\n",
       "      <td>...</td>\n",
       "      <td>...</td>\n",
       "      <td>...</td>\n",
       "      <td>...</td>\n",
       "      <td>...</td>\n",
       "    </tr>\n",
       "    <tr>\n",
       "      <th>1150</th>\n",
       "      <td>12/31/2016 1:07</td>\n",
       "      <td>12/31/2016 1:14</td>\n",
       "      <td>Business</td>\n",
       "      <td>Karachi</td>\n",
       "      <td>Karachi</td>\n",
       "      <td>0.7</td>\n",
       "      <td>Meeting</td>\n",
       "    </tr>\n",
       "    <tr>\n",
       "      <th>1151</th>\n",
       "      <td>12/31/2016 13:24</td>\n",
       "      <td>12/31/2016 13:42</td>\n",
       "      <td>Business</td>\n",
       "      <td>Karachi</td>\n",
       "      <td>Unknown Location</td>\n",
       "      <td>3.9</td>\n",
       "      <td>Temporary Site</td>\n",
       "    </tr>\n",
       "    <tr>\n",
       "      <th>1152</th>\n",
       "      <td>12/31/2016 15:03</td>\n",
       "      <td>12/31/2016 15:38</td>\n",
       "      <td>Business</td>\n",
       "      <td>Unknown Location</td>\n",
       "      <td>Unknown Location</td>\n",
       "      <td>16.2</td>\n",
       "      <td>Meeting</td>\n",
       "    </tr>\n",
       "    <tr>\n",
       "      <th>1153</th>\n",
       "      <td>12/31/2016 21:32</td>\n",
       "      <td>12/31/2016 21:50</td>\n",
       "      <td>Business</td>\n",
       "      <td>Katunayake</td>\n",
       "      <td>Gampaha</td>\n",
       "      <td>6.4</td>\n",
       "      <td>Temporary Site</td>\n",
       "    </tr>\n",
       "    <tr>\n",
       "      <th>1154</th>\n",
       "      <td>12/31/2016 22:08</td>\n",
       "      <td>12/31/2016 23:51</td>\n",
       "      <td>Business</td>\n",
       "      <td>Gampaha</td>\n",
       "      <td>Ilukwatta</td>\n",
       "      <td>48.2</td>\n",
       "      <td>Temporary Site</td>\n",
       "    </tr>\n",
       "  </tbody>\n",
       "</table>\n",
       "<p>1155 rows × 7 columns</p>\n",
       "</div>"
      ],
      "text/plain": [
       "           START_DATE*         END_DATE* CATEGORY*            START*  \\\n",
       "0     01-01-2016 21:11  01-01-2016 21:17  Business       Fort Pierce   \n",
       "1     01-02-2016 01:25  01-02-2016 01:37  Business       Fort Pierce   \n",
       "2     01-02-2016 20:25  01-02-2016 20:38  Business       Fort Pierce   \n",
       "3     01-05-2016 17:31  01-05-2016 17:45  Business       Fort Pierce   \n",
       "4     01-06-2016 14:42  01-06-2016 15:49  Business       Fort Pierce   \n",
       "...                ...               ...       ...               ...   \n",
       "1150   12/31/2016 1:07   12/31/2016 1:14  Business           Karachi   \n",
       "1151  12/31/2016 13:24  12/31/2016 13:42  Business           Karachi   \n",
       "1152  12/31/2016 15:03  12/31/2016 15:38  Business  Unknown Location   \n",
       "1153  12/31/2016 21:32  12/31/2016 21:50  Business        Katunayake   \n",
       "1154  12/31/2016 22:08  12/31/2016 23:51  Business           Gampaha   \n",
       "\n",
       "                 STOP*  MILES*         PURPOSE*  \n",
       "0          Fort Pierce     5.1   Meal/Entertain  \n",
       "1          Fort Pierce     5.0   Not Applicable  \n",
       "2          Fort Pierce     4.8  Errand/Supplies  \n",
       "3          Fort Pierce     4.7          Meeting  \n",
       "4      West Palm Beach    63.7   Customer Visit  \n",
       "...                ...     ...              ...  \n",
       "1150           Karachi     0.7          Meeting  \n",
       "1151  Unknown Location     3.9   Temporary Site  \n",
       "1152  Unknown Location    16.2          Meeting  \n",
       "1153           Gampaha     6.4   Temporary Site  \n",
       "1154         Ilukwatta    48.2   Temporary Site  \n",
       "\n",
       "[1155 rows x 7 columns]"
      ]
     },
     "execution_count": 34,
     "metadata": {},
     "output_type": "execute_result"
    }
   ],
   "source": [
    "NA=uber_drives.fillna('Not Applicable')\n",
    "NA"
   ]
  },
  {
   "cell_type": "code",
   "execution_count": 35,
   "id": "e14b7a3c",
   "metadata": {},
   "outputs": [
    {
     "data": {
      "text/html": [
       "<div>\n",
       "<style scoped>\n",
       "    .dataframe tbody tr th:only-of-type {\n",
       "        vertical-align: middle;\n",
       "    }\n",
       "\n",
       "    .dataframe tbody tr th {\n",
       "        vertical-align: top;\n",
       "    }\n",
       "\n",
       "    .dataframe thead th {\n",
       "        text-align: right;\n",
       "    }\n",
       "</style>\n",
       "<table border=\"1\" class=\"dataframe\">\n",
       "  <thead>\n",
       "    <tr style=\"text-align: right;\">\n",
       "      <th></th>\n",
       "      <th></th>\n",
       "      <th>MILES*</th>\n",
       "    </tr>\n",
       "    <tr>\n",
       "      <th>CATEGORY*</th>\n",
       "      <th>PURPOSE*</th>\n",
       "      <th></th>\n",
       "    </tr>\n",
       "  </thead>\n",
       "  <tbody>\n",
       "    <tr>\n",
       "      <th rowspan=\"8\" valign=\"top\">Business</th>\n",
       "      <th>Airport/Travel</th>\n",
       "      <td>16.5</td>\n",
       "    </tr>\n",
       "    <tr>\n",
       "      <th>Between Offices</th>\n",
       "      <td>197.0</td>\n",
       "    </tr>\n",
       "    <tr>\n",
       "      <th>Customer Visit</th>\n",
       "      <td>2089.5</td>\n",
       "    </tr>\n",
       "    <tr>\n",
       "      <th>Errand/Supplies</th>\n",
       "      <td>508.0</td>\n",
       "    </tr>\n",
       "    <tr>\n",
       "      <th>Meal/Entertain</th>\n",
       "      <td>911.7</td>\n",
       "    </tr>\n",
       "    <tr>\n",
       "      <th>Meeting</th>\n",
       "      <td>2851.3</td>\n",
       "    </tr>\n",
       "    <tr>\n",
       "      <th>Not Applicable</th>\n",
       "      <td>4389.3</td>\n",
       "    </tr>\n",
       "    <tr>\n",
       "      <th>Temporary Site</th>\n",
       "      <td>523.7</td>\n",
       "    </tr>\n",
       "    <tr>\n",
       "      <th rowspan=\"4\" valign=\"top\">Personal</th>\n",
       "      <th>Charity ($)</th>\n",
       "      <td>15.1</td>\n",
       "    </tr>\n",
       "    <tr>\n",
       "      <th>Commute</th>\n",
       "      <td>180.2</td>\n",
       "    </tr>\n",
       "    <tr>\n",
       "      <th>Moving</th>\n",
       "      <td>18.2</td>\n",
       "    </tr>\n",
       "    <tr>\n",
       "      <th>Not Applicable</th>\n",
       "      <td>504.2</td>\n",
       "    </tr>\n",
       "  </tbody>\n",
       "</table>\n",
       "</div>"
      ],
      "text/plain": [
       "                           MILES*\n",
       "CATEGORY* PURPOSE*               \n",
       "Business  Airport/Travel     16.5\n",
       "          Between Offices   197.0\n",
       "          Customer Visit   2089.5\n",
       "          Errand/Supplies   508.0\n",
       "          Meal/Entertain    911.7\n",
       "          Meeting          2851.3\n",
       "          Not Applicable   4389.3\n",
       "          Temporary Site    523.7\n",
       "Personal  Charity ($)        15.1\n",
       "          Commute           180.2\n",
       "          Moving             18.2\n",
       "          Not Applicable    504.2"
      ]
     },
     "execution_count": 35,
     "metadata": {},
     "output_type": "execute_result"
    }
   ],
   "source": [
    "NA2=NA.groupby([\"CATEGORY*\",\"PURPOSE*\"]).sum()\n",
    "NA2"
   ]
  },
  {
   "cell_type": "code",
   "execution_count": 36,
   "id": "f6c01c28",
   "metadata": {},
   "outputs": [
    {
     "data": {
      "image/png": "[encoded data removed]",
      "text/plain": [
       "<Figure size 1080x432 with 1 Axes>"
      ]
     },
     "metadata": {
      "needs_background": "light"
     },
     "output_type": "display_data"
    }
   ],
   "source": [
    "plt.figure(figsize=(15,6))\n",
    "NA2['MILES*'].plot( kind= 'bar' )\n",
    "plt.ylabel('MILES(Distance)')\n",
    "plt.title(\"Purpose vs Miles(Distance)\")\n",
    "plt.grid(True)\n",
    "plt.xticks(rotation=90)\n",
    "plt.show()"
   ]
  },
  {
   "cell_type": "markdown",
   "id": "52943d3e",
   "metadata": {},
   "source": [
    "we can get the various kind of informaition from this gragh, first information regarding least frequent \n",
    "Category purposes who cover less disctances are \"Airport/Travel\",\"Personal Charity\" and \"Personal Moving\"\n",
    "\n",
    "we have also the max disctance covered which is 4389.3 miles but purpose not mentioned "
   ]
  },
  {
   "cell_type": "markdown",
   "id": "b5f87599",
   "metadata": {},
   "source": [
    "# Q20. Display a dataframe of Purpose and the total distance travelled for that particular Purpose. (3 points)"
   ]
  },
  {
   "cell_type": "code",
   "execution_count": 37,
   "id": "00dba161",
   "metadata": {},
   "outputs": [
    {
     "data": {
      "text/html": [
       "<div>\n",
       "<style scoped>\n",
       "    .dataframe tbody tr th:only-of-type {\n",
       "        vertical-align: middle;\n",
       "    }\n",
       "\n",
       "    .dataframe tbody tr th {\n",
       "        vertical-align: top;\n",
       "    }\n",
       "\n",
       "    .dataframe thead th {\n",
       "        text-align: right;\n",
       "    }\n",
       "</style>\n",
       "<table border=\"1\" class=\"dataframe\">\n",
       "  <thead>\n",
       "    <tr style=\"text-align: right;\">\n",
       "      <th></th>\n",
       "      <th></th>\n",
       "      <th>MILES*</th>\n",
       "    </tr>\n",
       "    <tr>\n",
       "      <th>CATEGORY*</th>\n",
       "      <th>PURPOSE*</th>\n",
       "      <th></th>\n",
       "    </tr>\n",
       "  </thead>\n",
       "  <tbody>\n",
       "    <tr>\n",
       "      <th rowspan=\"8\" valign=\"top\">Business</th>\n",
       "      <th>Airport/Travel</th>\n",
       "      <td>16.5</td>\n",
       "    </tr>\n",
       "    <tr>\n",
       "      <th>Between Offices</th>\n",
       "      <td>197.0</td>\n",
       "    </tr>\n",
       "    <tr>\n",
       "      <th>Customer Visit</th>\n",
       "      <td>2089.5</td>\n",
       "    </tr>\n",
       "    <tr>\n",
       "      <th>Errand/Supplies</th>\n",
       "      <td>508.0</td>\n",
       "    </tr>\n",
       "    <tr>\n",
       "      <th>Meal/Entertain</th>\n",
       "      <td>911.7</td>\n",
       "    </tr>\n",
       "    <tr>\n",
       "      <th>Meeting</th>\n",
       "      <td>2851.3</td>\n",
       "    </tr>\n",
       "    <tr>\n",
       "      <th>Not Applicable</th>\n",
       "      <td>4389.3</td>\n",
       "    </tr>\n",
       "    <tr>\n",
       "      <th>Temporary Site</th>\n",
       "      <td>523.7</td>\n",
       "    </tr>\n",
       "    <tr>\n",
       "      <th rowspan=\"4\" valign=\"top\">Personal</th>\n",
       "      <th>Charity ($)</th>\n",
       "      <td>15.1</td>\n",
       "    </tr>\n",
       "    <tr>\n",
       "      <th>Commute</th>\n",
       "      <td>180.2</td>\n",
       "    </tr>\n",
       "    <tr>\n",
       "      <th>Moving</th>\n",
       "      <td>18.2</td>\n",
       "    </tr>\n",
       "    <tr>\n",
       "      <th>Not Applicable</th>\n",
       "      <td>504.2</td>\n",
       "    </tr>\n",
       "  </tbody>\n",
       "</table>\n",
       "</div>"
      ],
      "text/plain": [
       "                           MILES*\n",
       "CATEGORY* PURPOSE*               \n",
       "Business  Airport/Travel     16.5\n",
       "          Between Offices   197.0\n",
       "          Customer Visit   2089.5\n",
       "          Errand/Supplies   508.0\n",
       "          Meal/Entertain    911.7\n",
       "          Meeting          2851.3\n",
       "          Not Applicable   4389.3\n",
       "          Temporary Site    523.7\n",
       "Personal  Charity ($)        15.1\n",
       "          Commute           180.2\n",
       "          Moving             18.2\n",
       "          Not Applicable    504.2"
      ]
     },
     "execution_count": 37,
     "metadata": {},
     "output_type": "execute_result"
    }
   ],
   "source": [
    "NA2"
   ]
  },
  {
   "cell_type": "code",
   "execution_count": 38,
   "id": "f2fd7c80",
   "metadata": {},
   "outputs": [
    {
     "data": {
      "text/plain": [
       "MILES*    12204.7\n",
       "dtype: float64"
      ]
     },
     "execution_count": 38,
     "metadata": {},
     "output_type": "execute_result"
    }
   ],
   "source": [
    "NA2.sum()"
   ]
  },
  {
   "cell_type": "markdown",
   "id": "a40f79d9",
   "metadata": {},
   "source": [
    "# Q21. Generate a plot showing count of trips vs category of trips. What can you infer from the plot (2 +1 points)"
   ]
  },
  {
   "cell_type": "code",
   "execution_count": 39,
   "id": "5c5e8b45",
   "metadata": {},
   "outputs": [
    {
     "data": {
      "text/html": [
       "<div>\n",
       "<style scoped>\n",
       "    .dataframe tbody tr th:only-of-type {\n",
       "        vertical-align: middle;\n",
       "    }\n",
       "\n",
       "    .dataframe tbody tr th {\n",
       "        vertical-align: top;\n",
       "    }\n",
       "\n",
       "    .dataframe thead th {\n",
       "        text-align: right;\n",
       "    }\n",
       "</style>\n",
       "<table border=\"1\" class=\"dataframe\">\n",
       "  <thead>\n",
       "    <tr style=\"text-align: right;\">\n",
       "      <th></th>\n",
       "      <th>START_DATE*</th>\n",
       "      <th>END_DATE*</th>\n",
       "      <th>CATEGORY*</th>\n",
       "      <th>START*</th>\n",
       "      <th>STOP*</th>\n",
       "      <th>MILES*</th>\n",
       "      <th>PURPOSE*</th>\n",
       "    </tr>\n",
       "  </thead>\n",
       "  <tbody>\n",
       "    <tr>\n",
       "      <th>0</th>\n",
       "      <td>01-01-2016 21:11</td>\n",
       "      <td>01-01-2016 21:17</td>\n",
       "      <td>Business</td>\n",
       "      <td>Fort Pierce</td>\n",
       "      <td>Fort Pierce</td>\n",
       "      <td>5.1</td>\n",
       "      <td>Meal/Entertain</td>\n",
       "    </tr>\n",
       "    <tr>\n",
       "      <th>1</th>\n",
       "      <td>01-02-2016 01:25</td>\n",
       "      <td>01-02-2016 01:37</td>\n",
       "      <td>Business</td>\n",
       "      <td>Fort Pierce</td>\n",
       "      <td>Fort Pierce</td>\n",
       "      <td>5.0</td>\n",
       "      <td>NaN</td>\n",
       "    </tr>\n",
       "    <tr>\n",
       "      <th>2</th>\n",
       "      <td>01-02-2016 20:25</td>\n",
       "      <td>01-02-2016 20:38</td>\n",
       "      <td>Business</td>\n",
       "      <td>Fort Pierce</td>\n",
       "      <td>Fort Pierce</td>\n",
       "      <td>4.8</td>\n",
       "      <td>Errand/Supplies</td>\n",
       "    </tr>\n",
       "    <tr>\n",
       "      <th>3</th>\n",
       "      <td>01-05-2016 17:31</td>\n",
       "      <td>01-05-2016 17:45</td>\n",
       "      <td>Business</td>\n",
       "      <td>Fort Pierce</td>\n",
       "      <td>Fort Pierce</td>\n",
       "      <td>4.7</td>\n",
       "      <td>Meeting</td>\n",
       "    </tr>\n",
       "    <tr>\n",
       "      <th>4</th>\n",
       "      <td>01-06-2016 14:42</td>\n",
       "      <td>01-06-2016 15:49</td>\n",
       "      <td>Business</td>\n",
       "      <td>Fort Pierce</td>\n",
       "      <td>West Palm Beach</td>\n",
       "      <td>63.7</td>\n",
       "      <td>Customer Visit</td>\n",
       "    </tr>\n",
       "  </tbody>\n",
       "</table>\n",
       "</div>"
      ],
      "text/plain": [
       "        START_DATE*         END_DATE* CATEGORY*       START*            STOP*  \\\n",
       "0  01-01-2016 21:11  01-01-2016 21:17  Business  Fort Pierce      Fort Pierce   \n",
       "1  01-02-2016 01:25  01-02-2016 01:37  Business  Fort Pierce      Fort Pierce   \n",
       "2  01-02-2016 20:25  01-02-2016 20:38  Business  Fort Pierce      Fort Pierce   \n",
       "3  01-05-2016 17:31  01-05-2016 17:45  Business  Fort Pierce      Fort Pierce   \n",
       "4  01-06-2016 14:42  01-06-2016 15:49  Business  Fort Pierce  West Palm Beach   \n",
       "\n",
       "   MILES*         PURPOSE*  \n",
       "0     5.1   Meal/Entertain  \n",
       "1     5.0              NaN  \n",
       "2     4.8  Errand/Supplies  \n",
       "3     4.7          Meeting  \n",
       "4    63.7   Customer Visit  "
      ]
     },
     "execution_count": 39,
     "metadata": {},
     "output_type": "execute_result"
    }
   ],
   "source": [
    "uber_drives.head()"
   ]
  },
  {
   "cell_type": "code",
   "execution_count": 40,
   "id": "595e4794",
   "metadata": {},
   "outputs": [
    {
     "data": {
      "text/plain": [
       "Business    1078\n",
       "Personal      77\n",
       "Name: CATEGORY*, dtype: int64"
      ]
     },
     "execution_count": 40,
     "metadata": {},
     "output_type": "execute_result"
    }
   ],
   "source": [
    "uber_drives[\"CATEGORY*\"].value_counts()"
   ]
  },
  {
   "cell_type": "code",
   "execution_count": 41,
   "id": "abe5c985",
   "metadata": {},
   "outputs": [
    {
     "data": {
      "image/png": "[encoded data removed]",
      "text/plain": [
       "<Figure size 1160.38x720 with 1 Axes>"
      ]
     },
     "metadata": {
      "needs_background": "light"
     },
     "output_type": "display_data"
    }
   ],
   "source": [
    "\n",
    "sns.catplot(x=\"PURPOSE*\", hue=\"CATEGORY*\", data=uber_drives,kind=\"count\",height=10, aspect=1.5);"
   ]
  },
  {
   "cell_type": "code",
   "execution_count": 42,
   "id": "45ad98d8",
   "metadata": {},
   "outputs": [
    {
     "data": {
      "image/png": "[encoded data removed]",
      "text/plain": [
       "<Figure size 432x288 with 1 Axes>"
      ]
     },
     "metadata": {
      "needs_background": "light"
     },
     "output_type": "display_data"
    }
   ],
   "source": [
    "sns.countplot(x=\"CATEGORY*\",data=uber_drives);"
   ]
  },
  {
   "cell_type": "markdown",
   "id": "6e67f48a",
   "metadata": {},
   "source": [
    "Mostly the trips belongs to business purpose like meal/etertain, supplies, meetings, customer visit and offices etc."
   ]
  },
  {
   "cell_type": "markdown",
   "id": "c462db13",
   "metadata": {},
   "source": [
    "# Q22. What percentage of Miles were clocked under Business Category and what percentage of Miles were clocked under Personal Category ? (3 points)"
   ]
  },
  {
   "cell_type": "code",
   "execution_count": 43,
   "id": "f6abcacd",
   "metadata": {},
   "outputs": [
    {
     "data": {
      "text/plain": [
       "Business    1078\n",
       "Personal      77\n",
       "Name: CATEGORY*, dtype: int64"
      ]
     },
     "execution_count": 43,
     "metadata": {},
     "output_type": "execute_result"
    }
   ],
   "source": [
    "uber_drives[\"CATEGORY*\"].value_counts()"
   ]
  },
  {
   "cell_type": "code",
   "execution_count": 44,
   "id": "6aac5e67",
   "metadata": {},
   "outputs": [
    {
     "data": {
      "text/plain": [
       "CATEGORY*\n",
       "Business    11487.0\n",
       "Personal      717.7\n",
       "Name: MILES*, dtype: float64"
      ]
     },
     "execution_count": 44,
     "metadata": {},
     "output_type": "execute_result"
    }
   ],
   "source": [
    "uber_drives.groupby('CATEGORY*')['MILES*'].sum()"
   ]
  },
  {
   "cell_type": "code",
   "execution_count": 45,
   "id": "827504cb",
   "metadata": {},
   "outputs": [
    {
     "data": {
      "text/html": [
       "<div>\n",
       "<style scoped>\n",
       "    .dataframe tbody tr th:only-of-type {\n",
       "        vertical-align: middle;\n",
       "    }\n",
       "\n",
       "    .dataframe tbody tr th {\n",
       "        vertical-align: top;\n",
       "    }\n",
       "\n",
       "    .dataframe thead th {\n",
       "        text-align: right;\n",
       "    }\n",
       "</style>\n",
       "<table border=\"1\" class=\"dataframe\">\n",
       "  <thead>\n",
       "    <tr style=\"text-align: right;\">\n",
       "      <th></th>\n",
       "      <th></th>\n",
       "      <th>MILES*</th>\n",
       "    </tr>\n",
       "    <tr>\n",
       "      <th>CATEGORY*</th>\n",
       "      <th>PURPOSE*</th>\n",
       "      <th></th>\n",
       "    </tr>\n",
       "  </thead>\n",
       "  <tbody>\n",
       "    <tr>\n",
       "      <th rowspan=\"8\" valign=\"top\">Business</th>\n",
       "      <th>Airport/Travel</th>\n",
       "      <td>16.5</td>\n",
       "    </tr>\n",
       "    <tr>\n",
       "      <th>Between Offices</th>\n",
       "      <td>197.0</td>\n",
       "    </tr>\n",
       "    <tr>\n",
       "      <th>Customer Visit</th>\n",
       "      <td>2089.5</td>\n",
       "    </tr>\n",
       "    <tr>\n",
       "      <th>Errand/Supplies</th>\n",
       "      <td>508.0</td>\n",
       "    </tr>\n",
       "    <tr>\n",
       "      <th>Meal/Entertain</th>\n",
       "      <td>911.7</td>\n",
       "    </tr>\n",
       "    <tr>\n",
       "      <th>Meeting</th>\n",
       "      <td>2851.3</td>\n",
       "    </tr>\n",
       "    <tr>\n",
       "      <th>Not Applicable</th>\n",
       "      <td>4389.3</td>\n",
       "    </tr>\n",
       "    <tr>\n",
       "      <th>Temporary Site</th>\n",
       "      <td>523.7</td>\n",
       "    </tr>\n",
       "    <tr>\n",
       "      <th rowspan=\"4\" valign=\"top\">Personal</th>\n",
       "      <th>Charity ($)</th>\n",
       "      <td>15.1</td>\n",
       "    </tr>\n",
       "    <tr>\n",
       "      <th>Commute</th>\n",
       "      <td>180.2</td>\n",
       "    </tr>\n",
       "    <tr>\n",
       "      <th>Moving</th>\n",
       "      <td>18.2</td>\n",
       "    </tr>\n",
       "    <tr>\n",
       "      <th>Not Applicable</th>\n",
       "      <td>504.2</td>\n",
       "    </tr>\n",
       "  </tbody>\n",
       "</table>\n",
       "</div>"
      ],
      "text/plain": [
       "                           MILES*\n",
       "CATEGORY* PURPOSE*               \n",
       "Business  Airport/Travel     16.5\n",
       "          Between Offices   197.0\n",
       "          Customer Visit   2089.5\n",
       "          Errand/Supplies   508.0\n",
       "          Meal/Entertain    911.7\n",
       "          Meeting          2851.3\n",
       "          Not Applicable   4389.3\n",
       "          Temporary Site    523.7\n",
       "Personal  Charity ($)        15.1\n",
       "          Commute           180.2\n",
       "          Moving             18.2\n",
       "          Not Applicable    504.2"
      ]
     },
     "execution_count": 45,
     "metadata": {},
     "output_type": "execute_result"
    }
   ],
   "source": [
    "NA2"
   ]
  },
  {
   "cell_type": "code",
   "execution_count": 46,
   "id": "2a9bf83e",
   "metadata": {},
   "outputs": [
    {
     "data": {
      "text/plain": [
       "11487.0"
      ]
     },
     "execution_count": 46,
     "metadata": {},
     "output_type": "execute_result"
    }
   ],
   "source": [
    "Business=16.5+197+2089.5+508+911.7+2851.3+4389.3+523.7\n",
    "Business"
   ]
  },
  {
   "cell_type": "code",
   "execution_count": 47,
   "id": "42d6fa43",
   "metadata": {},
   "outputs": [
    {
     "data": {
      "text/plain": [
       "717.6999999999999"
      ]
     },
     "execution_count": 47,
     "metadata": {},
     "output_type": "execute_result"
    }
   ],
   "source": [
    "Personal=15.1+180.2+18.2+504.2\n",
    "Personal"
   ]
  },
  {
   "cell_type": "code",
   "execution_count": 48,
   "id": "5440d31d",
   "metadata": {},
   "outputs": [
    {
     "data": {
      "text/plain": [
       "12204.7"
      ]
     },
     "execution_count": 48,
     "metadata": {},
     "output_type": "execute_result"
    }
   ],
   "source": [
    "Total=Personal+Business\n",
    "Total"
   ]
  },
  {
   "cell_type": "code",
   "execution_count": 49,
   "id": "d9ea53a9",
   "metadata": {},
   "outputs": [
    {
     "name": "stdout",
     "output_type": "stream",
     "text": [
      "percentage of Miles were clocked under Business Category 94.11947856153776\n"
     ]
    }
   ],
   "source": [
    "print(\"percentage of Miles were clocked under Business Category\",(Business/Total)*100)"
   ]
  },
  {
   "cell_type": "code",
   "execution_count": 50,
   "id": "56554e2a",
   "metadata": {},
   "outputs": [
    {
     "name": "stdout",
     "output_type": "stream",
     "text": [
      "percentage of Miles were clocked under Personal Category 5.880521438462231\n"
     ]
    }
   ],
   "source": [
    "print(\"percentage of Miles were clocked under Personal Category\",(Personal/Total)*100)"
   ]
  },
  {
   "cell_type": "code",
   "execution_count": null,
   "id": "c30f6238",
   "metadata": {},
   "outputs": [],
   "source": []
  },
  {
   "cell_type": "code",
   "execution_count": null,
   "id": "fd0aeda7",
   "metadata": {},
   "outputs": [],
   "source": []
  }
 ],
 "metadata": {
  "kernelspec": {
   "display_name": "Python 3 (ipykernel)",
   "language": "python",
   "name": "python3"
  },
  "language_info": {
   "codemirror_mode": {
    "name": "ipython",
    "version": 3
   },
   "file_extension": ".py",
   "mimetype": "text/x-python",
   "name": "python",
   "nbconvert_exporter": "python",
   "pygments_lexer": "ipython3",
   "version": "3.8.11"
  }
 },
 "nbformat": 4,
 "nbformat_minor": 5
}
